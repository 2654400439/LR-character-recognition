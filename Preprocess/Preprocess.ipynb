{
 "cells": [
  {
   "cell_type": "code",
   "execution_count": 1,
   "id": "63838679",
   "metadata": {},
   "outputs": [],
   "source": [
    "import cv2\n",
    "import numpy as np\n",
    "import os\n",
    "import math\n",
    "from tqdm import trange\n",
    "import random\n",
    "import seaborn as sns\n",
    "import multiprocessing as mp\n",
    "import csv\n",
    "import matplotlib.pyplot as plt\n",
    "from scipy import stats\n",
    "import shutil\n",
    "from skimage.filters import gaussian\n",
    "import skimage"
   ]
  },
  {
   "cell_type": "markdown",
   "id": "150ac174",
   "metadata": {},
   "source": [
    "## 处理训练集"
   ]
  },
  {
   "cell_type": "markdown",
   "id": "81416196",
   "metadata": {},
   "source": [
    "#### 1. 从图片中抠出“抖音号：xxxxxxxx”"
   ]
  },
  {
   "cell_type": "code",
   "execution_count": 2,
   "id": "799bf63d",
   "metadata": {},
   "outputs": [],
   "source": [
    "# 处理过曝光的像素，超过255还原成255\n",
    "def set_max(array):\n",
    "    for i in range(len(array)):\n",
    "        for j in range(len(array[0])):\n",
    "            if array[i,j] > 255:\n",
    "                array[i,j] = 255\n",
    "    return array"
   ]
  },
  {
   "cell_type": "code",
   "execution_count": 3,
   "id": "cc709170",
   "metadata": {},
   "outputs": [],
   "source": [
    "# 改成自适应的垂直投影\n",
    "def getVProjection(image, threshold=255, flag=0):\n",
    "    if threshold >= 255:\n",
    "        threshold = 250\n",
    "    vProjection = np.zeros(image.shape,np.uint8);\n",
    "    #图像高与宽\n",
    "    (h,w) = image.shape\n",
    "    #长度与图像宽度一致的数组\n",
    "    w_ = [0]*w\n",
    "    #循环统计每一列白色像素的个数\n",
    "    for x in range(w):\n",
    "        for y in range(h):\n",
    "            if image[y,x] > threshold:\n",
    "                w_[x]+=1\n",
    "    #绘制垂直平投影图像\n",
    "    for x in range(w):\n",
    "        for y in range(h-w_[x],h):\n",
    "            vProjection[y,x] = 255\n",
    "    if flag == 1:\n",
    "        cv2.imshow('vProjection',vProjection)\n",
    "    return w_"
   ]
  },
  {
   "cell_type": "code",
   "execution_count": 4,
   "id": "aae6d363",
   "metadata": {},
   "outputs": [],
   "source": [
    "# 垂直投影右侧边界加两个像素，从右向左遍历找到第一个连续超过2的区间\n",
    "def get_right_bound(split_w):\n",
    "    flag = 0\n",
    "    length = len(split_w)\n",
    "    bound = length - 1\n",
    "    for i in range(length):\n",
    "        # 已经有一个了\n",
    "        if flag == 1:\n",
    "            if split_w[length - i - 1] != 0:\n",
    "                bound = length - i + 3\n",
    "                break\n",
    "            else:\n",
    "                flag = 0\n",
    "        else:\n",
    "            if split_w[length - i - 1] != 0:\n",
    "                flag = 1\n",
    "    return bound"
   ]
  },
  {
   "cell_type": "code",
   "execution_count": 5,
   "id": "b6acd7d1",
   "metadata": {},
   "outputs": [],
   "source": [
    "# 训练集用第200张做模板  (v0200fg10000cb9gnojc77u62n91odlg_2_.jpg)  使用cv2.matchTemplate做模板匹配\n",
    "path = \"D:/dataset_all/bytedance/ocr_data_split/data/train_random_8w/train_set_random\"\n",
    "file_name_list = os.listdir(path)\n",
    "img = cv2.imread(path + '/' + file_name_list[200], cv2.IMREAD_GRAYSCALE)\n",
    "\n",
    "template = img[-60:-45,-187:-135]"
   ]
  },
  {
   "cell_type": "code",
   "execution_count": 6,
   "id": "6d4b994e",
   "metadata": {},
   "outputs": [
    {
     "name": "stderr",
     "output_type": "stream",
     "text": [
      "  0%|                                                                                                                                                                             | 0/78699 [00:00<?, ?it/s]\n"
     ]
    }
   ],
   "source": [
    "path = \"D:/dataset_all/bytedance/ocr_data_split/data/train_random_8w/train_set_random\"\n",
    "file_name_list = os.listdir(path)\n",
    "\n",
    "for k in trange(len(file_name_list)):\n",
    "    \n",
    "    # 保存文件用，请自行去掉\n",
    "    if k == 0:\n",
    "        break\n",
    "        \n",
    "    img = cv2.imread(path + '/' + file_name_list[k], cv2.IMREAD_GRAYSCALE)\n",
    "\n",
    "    # 处理竖屏图片\n",
    "    if len(img)/len(img[0]) > 1.5:\n",
    "        img_high = cv2.resize(img, [400, 720], interpolation=cv2.INTER_CUBIC)\n",
    "        img_high_restoration = skimage.restoration.denoise_tv_chambolle(img_high, weight=0.0001)\n",
    "        img_bottom = (img_high_restoration[-70:] * 255.0).astype(np.uint8)\n",
    "        img_top = (img_high_restoration[:70] * 255.0).astype(np.uint8)\n",
    "\n",
    "    # 处理横屏图片\n",
    "    elif len(img[0])/len(img) > 1.5:\n",
    "        img_high = cv2.resize(img, [720, 400], interpolation=cv2.INTER_CUBIC)\n",
    "        img_high_restoration = skimage.restoration.denoise_tv_chambolle(img_high, weight=0.0001)\n",
    "        img_bottom = (img_high_restoration[-50:] * 255.0).astype(np.uint8)\n",
    "        img_top = (img_high_restoration[:50] * 255.0).astype(np.uint8)\n",
    "\n",
    "    # 处理方形图片\n",
    "    else:\n",
    "        img_high = cv2.resize(img, [600, 600], interpolation=cv2.INTER_CUBIC)\n",
    "        img_high_restoration = skimage.restoration.denoise_tv_chambolle(img_high, weight=0.0001)\n",
    "        img_bottom = (img_high_restoration[-70:] * 255.0).astype(np.uint8)\n",
    "        img_top = (img_high_restoration[:70] * 255.0).astype(np.uint8)\n",
    "\n",
    "\n",
    "    # 增加曝光试试，让所有的像素都变白\n",
    "    img_top = set_max(img_top * 1.1).astype(np.uint8)\n",
    "    img_bottom = set_max(img_bottom * 1.1).astype(np.uint8)\n",
    "\n",
    "    # 模板匹配\n",
    "    h, w = template.shape[:2]\n",
    "\n",
    "    # 处理top部分\n",
    "    ret = cv2.matchTemplate(img_top, template, cv2.TM_CCOEFF_NORMED)\n",
    "    min_val, max_val, min_loc, max_loc = cv2.minMaxLoc(ret)\n",
    "\n",
    "    # 处理bottom部分\n",
    "    ret_b = cv2.matchTemplate(img_bottom, template, cv2.TM_CCOEFF_NORMED)\n",
    "    min_val_b, max_val_b, min_loc_b, max_loc_b = cv2.minMaxLoc(ret_b)\n",
    "    \n",
    "    # 判断模板匹配结果是在top还是在bottom\n",
    "    if max_val > max_val_b:\n",
    "        draw_img = img_top.copy()\n",
    "        ret = cv2.rectangle(draw_img, max_loc, (max_loc[0]+w, max_loc[1]+h), (80, 80, 80), 1)\n",
    "    else:\n",
    "        draw_img = img_bottom.copy()\n",
    "        ret = cv2.rectangle(draw_img, max_loc_b, (max_loc_b[0]+w, max_loc_b[1]+h), (80, 80, 80), 1)\n",
    "\n",
    "    # 取得倒数第二步结果    \n",
    "    if max_val > max_val_b:\n",
    "        img_next = img_top[max_loc[1]:max_loc[1] + h, max_loc[0]:]\n",
    "    else:\n",
    "        img_next = img_bottom[max_loc_b[1]:max_loc_b[1] + h, max_loc_b[0]:]\n",
    "\n",
    "    # 自适应垂直投影确定右侧边界\n",
    "    split_w = getVProjection(img_next)\n",
    "    img_final = img_next[:,:get_right_bound(split_w)]\n",
    "    \n",
    "    # 保存图片\n",
    "    cv2.imwrite(\"D:/dataset_all/bytedance/ocr_data_split/data/train_random_8w/train_set_final/\" + file_name_list[k], img_final)"
   ]
  },
  {
   "cell_type": "markdown",
   "id": "cf2a9de6",
   "metadata": {},
   "source": [
    "#### 2. 将切得不好的图片从训练集中删除 8w变成6w  并修改图片名称为该图片的标签"
   ]
  },
  {
   "cell_type": "code",
   "execution_count": 7,
   "id": "12f064ee",
   "metadata": {},
   "outputs": [
    {
     "name": "stderr",
     "output_type": "stream",
     "text": [
      "  0%|                                                                                                                                                                             | 0/58028 [00:00<?, ?it/s]\n"
     ]
    }
   ],
   "source": [
    "# 宽高比大于16或小于8的都删除     8w条删除了2w条\n",
    "filepath = \"D:/dataset_all/bytedance/ocr_data_split/data/dataset_train_random.csv\"\n",
    "\n",
    "path = \"D:/dataset_all/bytedance/ocr_data_split/data/train_random_8w/train_set_final\"\n",
    "file_name_list = os.listdir(path)\n",
    "\n",
    "with open(filepath, 'r') as csvfile:\n",
    "    reader = csv.reader(csvfile)\n",
    "    data = [row for row in reader]\n",
    "\n",
    "for i in trange(len(file_name_list)):\n",
    "    \n",
    "    # 保存文件用，请自行去掉\n",
    "    if i == 0:\n",
    "        break\n",
    "    \n",
    "    img = cv2.imread(path + '/' + file_name_list[i], cv2.IMREAD_GRAYSCALE)\n",
    "    h = len(img)\n",
    "    w = len(img[0])\n",
    "    if 8 < w/h < 16:\n",
    "        for j in range(len(data)):\n",
    "            if data[j][0] == file_name_list[i]:\n",
    "                os.rename(path + '/' + file_name_list[i], path + '/' + data[j][1] + '.jpg')\n",
    "                break\n",
    "    else:\n",
    "        os.unlink(path + '/' + file_name_list[i])"
   ]
  },
  {
   "cell_type": "markdown",
   "id": "2b44aaeb",
   "metadata": {},
   "source": [
    "#### 3. 将训练数据分为训练集和测试集"
   ]
  },
  {
   "cell_type": "code",
   "execution_count": 8,
   "id": "d4125fcf",
   "metadata": {
    "collapsed": true
   },
   "outputs": [
    {
     "ename": "FileNotFoundError",
     "evalue": "[WinError 3] 系统找不到指定的路径。: './data_total'",
     "output_type": "error",
     "traceback": [
      "\u001b[1;31m---------------------------------------------------------------------------\u001b[0m",
      "\u001b[1;31mFileNotFoundError\u001b[0m                         Traceback (most recent call last)",
      "Input \u001b[1;32mIn [8]\u001b[0m, in \u001b[0;36m<cell line: 2>\u001b[1;34m()\u001b[0m\n\u001b[0;32m      1\u001b[0m path \u001b[38;5;241m=\u001b[39m \u001b[38;5;124m'\u001b[39m\u001b[38;5;124m./data_total\u001b[39m\u001b[38;5;124m'\u001b[39m\n\u001b[1;32m----> 2\u001b[0m file_path_list \u001b[38;5;241m=\u001b[39m \u001b[43mos\u001b[49m\u001b[38;5;241;43m.\u001b[39;49m\u001b[43mlistdir\u001b[49m\u001b[43m(\u001b[49m\u001b[43mpath\u001b[49m\u001b[43m)\u001b[49m\n\u001b[0;32m      3\u001b[0m file_list_sub \u001b[38;5;241m=\u001b[39m random\u001b[38;5;241m.\u001b[39msample(file_path_list, \u001b[38;5;28mint\u001b[39m(\u001b[38;5;28mlen\u001b[39m(file_path_list)\u001b[38;5;241m*\u001b[39m\u001b[38;5;241m0.3\u001b[39m))\n\u001b[0;32m      4\u001b[0m \u001b[38;5;28;01mfor\u001b[39;00m i \u001b[38;5;129;01min\u001b[39;00m \u001b[38;5;28mrange\u001b[39m(\u001b[38;5;28mlen\u001b[39m(file_list_sub)):\n",
      "\u001b[1;31mFileNotFoundError\u001b[0m: [WinError 3] 系统找不到指定的路径。: './data_total'"
     ]
    }
   ],
   "source": [
    "path = './data_total'\n",
    "file_path_list = os.listdir(path)\n",
    "file_list_sub = random.sample(file_path_list, int(len(file_path_list)*0.3))\n",
    "for i in range(len(file_list_sub)):\n",
    "    shutil.move(path+'/'+file_list_sub[i], './data_val/'+file_list_sub[i])"
   ]
  },
  {
   "cell_type": "markdown",
   "id": "76debbeb",
   "metadata": {},
   "source": [
    "#### 4. 训练集和验证集分开处理\n",
    "<br>\n",
    "---训练集包括原始训练集图片 + 缩放1/2再放大成原始尺寸的图片 + 增加高斯模糊的图片（共3倍于原始训练集）\n",
    "<br>\n",
    "---验证集只包括缩放1/2再放大成原始尺寸的图片  \n",
    "<br>\n",
    "这样做是因为缩放1/2再放大成原始尺寸的图片质量最接近测试集图片，以此类样本为验证集，并在模型在验证集取得最佳acc时保存模型，可以更好的用在测试集上"
   ]
  },
  {
   "cell_type": "code",
   "execution_count": 9,
   "id": "c3568420",
   "metadata": {
    "collapsed": true
   },
   "outputs": [
    {
     "ename": "FileNotFoundError",
     "evalue": "[WinError 3] 系统找不到指定的路径。: './data_train'",
     "output_type": "error",
     "traceback": [
      "\u001b[1;31m---------------------------------------------------------------------------\u001b[0m",
      "\u001b[1;31mFileNotFoundError\u001b[0m                         Traceback (most recent call last)",
      "Input \u001b[1;32mIn [9]\u001b[0m, in \u001b[0;36m<cell line: 3>\u001b[1;34m()\u001b[0m\n\u001b[0;32m      1\u001b[0m \u001b[38;5;66;03m# 处理训练集\u001b[39;00m\n\u001b[0;32m      2\u001b[0m path \u001b[38;5;241m=\u001b[39m \u001b[38;5;124m\"\u001b[39m\u001b[38;5;124m./data_train\u001b[39m\u001b[38;5;124m\"\u001b[39m\n\u001b[1;32m----> 3\u001b[0m file_name_list \u001b[38;5;241m=\u001b[39m \u001b[43mos\u001b[49m\u001b[38;5;241;43m.\u001b[39;49m\u001b[43mlistdir\u001b[49m\u001b[43m(\u001b[49m\u001b[43mpath\u001b[49m\u001b[43m)\u001b[49m\n\u001b[0;32m      5\u001b[0m \u001b[38;5;28;01mfor\u001b[39;00m i \u001b[38;5;129;01min\u001b[39;00m trange(\u001b[38;5;28mlen\u001b[39m(file_name_list)):\n\u001b[0;32m      6\u001b[0m     img \u001b[38;5;241m=\u001b[39m cv2\u001b[38;5;241m.\u001b[39mimread(path \u001b[38;5;241m+\u001b[39m \u001b[38;5;124m'\u001b[39m\u001b[38;5;124m/\u001b[39m\u001b[38;5;124m'\u001b[39m \u001b[38;5;241m+\u001b[39m file_name_list[i], cv2\u001b[38;5;241m.\u001b[39mIMREAD_GRAYSCALE)\n",
      "\u001b[1;31mFileNotFoundError\u001b[0m: [WinError 3] 系统找不到指定的路径。: './data_train'"
     ]
    }
   ],
   "source": [
    "# 处理训练集\n",
    "path = \"./data_train\"\n",
    "file_name_list = os.listdir(path)\n",
    "\n",
    "for i in trange(len(file_name_list)):\n",
    "    img = cv2.imread(path + '/' + file_name_list[i], cv2.IMREAD_GRAYSCALE)\n",
    "    h = len(img)\n",
    "    w = len(img[0])\n",
    "\n",
    "    img_low = cv2.resize(img, [int(0.5*w), int(0.5*h)])\n",
    "    img_low_high = cv2.resize(img_low, [200, 24])\n",
    "\n",
    "    img = cv2.resize(img, [200,24])\n",
    "    img_gaussian = cv2.GaussianBlur(img, [3,3], 0)\n",
    "\n",
    "    cv2.imwrite('./data_train/' + file_name_list[i].split('.')[0] + '_1.jpg', img_low_high)\n",
    "    cv2.imwrite('./data_train/' + file_name_list[i].split('.')[0] + '_2.jpg', img_gaussian)"
   ]
  },
  {
   "cell_type": "code",
   "execution_count": 10,
   "id": "6b43bf47",
   "metadata": {
    "collapsed": true
   },
   "outputs": [
    {
     "ename": "FileNotFoundError",
     "evalue": "[WinError 3] 系统找不到指定的路径。: './data_train'",
     "output_type": "error",
     "traceback": [
      "\u001b[1;31m---------------------------------------------------------------------------\u001b[0m",
      "\u001b[1;31mFileNotFoundError\u001b[0m                         Traceback (most recent call last)",
      "Input \u001b[1;32mIn [10]\u001b[0m, in \u001b[0;36m<cell line: 3>\u001b[1;34m()\u001b[0m\n\u001b[0;32m      1\u001b[0m \u001b[38;5;66;03m# 处理验证集\u001b[39;00m\n\u001b[0;32m      2\u001b[0m path \u001b[38;5;241m=\u001b[39m \u001b[38;5;124m\"\u001b[39m\u001b[38;5;124m./data_train\u001b[39m\u001b[38;5;124m\"\u001b[39m\n\u001b[1;32m----> 3\u001b[0m file_name_list \u001b[38;5;241m=\u001b[39m \u001b[43mos\u001b[49m\u001b[38;5;241;43m.\u001b[39;49m\u001b[43mlistdir\u001b[49m\u001b[43m(\u001b[49m\u001b[43mpath\u001b[49m\u001b[43m)\u001b[49m\n\u001b[0;32m      5\u001b[0m \u001b[38;5;28;01mfor\u001b[39;00m i \u001b[38;5;129;01min\u001b[39;00m trange(\u001b[38;5;28mlen\u001b[39m(file_name_list)):\n\u001b[0;32m      6\u001b[0m     img \u001b[38;5;241m=\u001b[39m cv2\u001b[38;5;241m.\u001b[39mimread(path \u001b[38;5;241m+\u001b[39m \u001b[38;5;124m'\u001b[39m\u001b[38;5;124m/\u001b[39m\u001b[38;5;124m'\u001b[39m \u001b[38;5;241m+\u001b[39m file_name_list[i], cv2\u001b[38;5;241m.\u001b[39mIMREAD_GRAYSCALE)\n",
      "\u001b[1;31mFileNotFoundError\u001b[0m: [WinError 3] 系统找不到指定的路径。: './data_train'"
     ]
    }
   ],
   "source": [
    "# 处理验证集\n",
    "path = \"./data_train\"\n",
    "file_name_list = os.listdir(path)\n",
    "\n",
    "for i in trange(len(file_name_list)):\n",
    "    img = cv2.imread(path + '/' + file_name_list[i], cv2.IMREAD_GRAYSCALE)\n",
    "    h = len(img)\n",
    "    w = len(img[0])\n",
    "\n",
    "    img_low = cv2.resize(img, [int(0.5*w), int(0.5*h)])\n",
    "    img_low_high = cv2.resize(img_low, [200, 24])\n",
    "\n",
    "    img = cv2.resize(img, [200,24])\n",
    "    img_gaussian = cv2.GaussianBlur(img, [3,3], 0)\n",
    "\n",
    "    cv2.imwrite('./data_train/' + file_name_list[i].split('.')[0] + '_1.jpg', img_low_high)\n",
    "    cv2.imwrite('./data_train/' + file_name_list[i].split('.')[0] + '_2.jpg', img_gaussian)"
   ]
  },
  {
   "cell_type": "markdown",
   "id": "752580f6",
   "metadata": {},
   "source": [
    "## 处理测试集"
   ]
  },
  {
   "cell_type": "markdown",
   "id": "0c6dfe78",
   "metadata": {},
   "source": [
    "#### 1. 从图中抠出“抖音号：xxxxxxxx”"
   ]
  },
  {
   "cell_type": "code",
   "execution_count": 11,
   "id": "d4561d45",
   "metadata": {},
   "outputs": [],
   "source": [
    "# 测试集用的第203张图片做的模板 (v0200fg10000cb9kkfjc77u9h5cho240_1_.jpg)\n",
    "path = \"D:/dataset_all/bytedance/ocr_data_split/data/test_random_2w/test_set_random\"\n",
    "file_name_list = os.listdir(path)\n",
    "img = cv2.imread(path + '/' + file_name_list[203], cv2.IMREAD_GRAYSCALE)\n",
    "img_high = cv2.resize(img, [400, 720], interpolation=cv2.INTER_CUBIC)\n",
    "img_high_restoration = skimage.restoration.denoise_tv_chambolle(img_high, weight=0.0001)\n",
    "img_bottom = (img_high_restoration[-70:] * 255.0).astype(np.uint8)\n",
    "\n",
    "template = img_bottom[-33:-15,8:65]"
   ]
  },
  {
   "cell_type": "code",
   "execution_count": 12,
   "id": "47291b96",
   "metadata": {},
   "outputs": [],
   "source": [
    "# 处理测试集的时候忘记是用的原始垂直投影还是自适应垂直投影了，两个中acc差5%左右\n",
    "def getVProjection_initial(image,flag=0):\n",
    "    vProjection = np.zeros(image.shape,np.uint8);\n",
    "    #图像高与宽\n",
    "    (h,w) = image.shape\n",
    "    #长度与图像宽度一致的数组\n",
    "    w_ = [0]*w\n",
    "    #循环统计每一列白色像素的个数\n",
    "    for x in range(w):\n",
    "        for y in range(h):\n",
    "            if image[y,x] == 255:\n",
    "                w_[x]+=1\n",
    "    #绘制垂直平投影图像\n",
    "    for x in range(w):\n",
    "        for y in range(h-w_[x],h):\n",
    "            vProjection[y,x] = 255\n",
    "    if flag == 1:\n",
    "        cv2.imshow('vProjection',vProjection)\n",
    "    return w_"
   ]
  },
  {
   "cell_type": "code",
   "execution_count": 13,
   "id": "4ffd3815",
   "metadata": {},
   "outputs": [
    {
     "name": "stderr",
     "output_type": "stream",
     "text": [
      "  0%|                                                                                                                                                                             | 0/19675 [00:00<?, ?it/s]\n"
     ]
    }
   ],
   "source": [
    "path = \"D:/dataset_all/bytedance/ocr_data_split/data/test_random_2w/test_set_random\"\n",
    "file_name_list = os.listdir(path)\n",
    "\n",
    "for k in trange(len(file_name_list)):\n",
    "    \n",
    "        # 保存文件用，请自行去掉\n",
    "    if k == 0:\n",
    "        break\n",
    "    \n",
    "    img = cv2.imread(path + '/' + file_name_list[k], cv2.IMREAD_GRAYSCALE)\n",
    "\n",
    "    # 先只处理竖屏图片\n",
    "    if len(img)/len(img[0]) > 1.5:\n",
    "        img_high = cv2.resize(img, [400, 720], interpolation=cv2.INTER_CUBIC)\n",
    "        img_high_restoration = skimage.restoration.denoise_tv_chambolle(img_high, weight=0.0001)\n",
    "        img_bottom = (img_high_restoration[-70:] * 255.0).astype(np.uint8)\n",
    "        img_top = (img_high_restoration[:70] * 255.0).astype(np.uint8)\n",
    "\n",
    "    # 处理横屏图片\n",
    "    elif len(img[0])/len(img) > 1.5:\n",
    "        img_high = cv2.resize(img, [720, 400], interpolation=cv2.INTER_CUBIC)\n",
    "        img_high_restoration = skimage.restoration.denoise_tv_chambolle(img_high, weight=0.0001)\n",
    "        img_bottom = (img_high_restoration[-50:] * 255.0).astype(np.uint8)\n",
    "        img_top = (img_high_restoration[:50] * 255.0).astype(np.uint8)\n",
    "\n",
    "    # 处理方形图片\n",
    "    else:\n",
    "        img_high = cv2.resize(img, [600, 600], interpolation=cv2.INTER_CUBIC)\n",
    "        img_high_restoration = skimage.restoration.denoise_tv_chambolle(img_high, weight=0.0001)\n",
    "        img_bottom = (img_high_restoration[-70:] * 255.0).astype(np.uint8)\n",
    "        img_top = (img_high_restoration[:70] * 255.0).astype(np.uint8)\n",
    "\n",
    "\n",
    "    # 增加曝光试试，让所有的像素都变白\n",
    "    img_top = set_max(img_top * 1.1).astype(np.uint8)\n",
    "    img_bottom = set_max(img_bottom * 1.1).astype(np.uint8)\n",
    "\n",
    "    # 模板匹配\n",
    "    h, w = template.shape[:2]\n",
    "\n",
    "    # 处理top部分\n",
    "    ret = cv2.matchTemplate(img_top, template, cv2.TM_CCOEFF_NORMED)\n",
    "    min_val, max_val, min_loc, max_loc = cv2.minMaxLoc(ret)\n",
    "\n",
    "    # 处理bottom部分\n",
    "    ret_b = cv2.matchTemplate(img_bottom, template, cv2.TM_CCOEFF_NORMED)\n",
    "    min_val_b, max_val_b, min_loc_b, max_loc_b = cv2.minMaxLoc(ret_b)\n",
    "\n",
    "    if max_val > max_val_b:\n",
    "        draw_img = img_top.copy()\n",
    "        ret = cv2.rectangle(draw_img, max_loc, (max_loc[0]+w, max_loc[1]+h), (80, 80, 80), 1)\n",
    "    else:\n",
    "        draw_img = img_bottom.copy()\n",
    "        ret = cv2.rectangle(draw_img, max_loc_b, (max_loc_b[0]+w, max_loc_b[1]+h), (80, 80, 80), 1)\n",
    "\n",
    "    # 取得倒数第二步结果    \n",
    "    if max_val > max_val_b:\n",
    "        img_next = img_top[max_loc[1]:max_loc[1] + h, max_loc[0]:]\n",
    "    else:\n",
    "        img_next = img_bottom[max_loc_b[1]:max_loc_b[1] + h, max_loc_b[0]:]\n",
    "\n",
    "    # 垂直投影\n",
    "    split_w = getVProjection(img_next)\n",
    "    img_final = img_next[:,:get_right_bound(split_w)]\n",
    "    \n",
    "    # 保存图片\n",
    "    cv2.imwrite(\"D:/dataset_all/bytedance/ocr_data_split/data/test_random_2w/test_set_final/\" + file_name_list[k], img_final)"
   ]
  },
  {
   "cell_type": "markdown",
   "id": "84a4647e",
   "metadata": {},
   "source": [
    "## 最后的测试集预测结果写入result.csv中\n",
    "### 其中测试集的gt.txt和result_test.txt由文字识别模块生成"
   ]
  },
  {
   "cell_type": "code",
   "execution_count": 14,
   "id": "1a406a52",
   "metadata": {
    "collapsed": true
   },
   "outputs": [
    {
     "name": "stderr",
     "output_type": "stream",
     "text": [
      "  1%|█▉                                                                                                                                                                 | 241/19675 [00:02<03:52, 83.43it/s]\n"
     ]
    },
    {
     "ename": "KeyboardInterrupt",
     "evalue": "",
     "output_type": "error",
     "traceback": [
      "\u001b[1;31m---------------------------------------------------------------------------\u001b[0m",
      "\u001b[1;31mKeyboardInterrupt\u001b[0m                         Traceback (most recent call last)",
      "Input \u001b[1;32mIn [14]\u001b[0m, in \u001b[0;36m<cell line: 37>\u001b[1;34m()\u001b[0m\n\u001b[0;32m     37\u001b[0m \u001b[38;5;28;01mfor\u001b[39;00m i \u001b[38;5;129;01min\u001b[39;00m trange(\u001b[38;5;28mlen\u001b[39m(file_data)):\n\u001b[0;32m     38\u001b[0m     \u001b[38;5;28;01mfor\u001b[39;00m j \u001b[38;5;129;01min\u001b[39;00m \u001b[38;5;28mrange\u001b[39m(\u001b[38;5;28mlen\u001b[39m(img)):\n\u001b[1;32m---> 39\u001b[0m         \u001b[38;5;28;01mif\u001b[39;00m file_data[i,\u001b[38;5;241m0\u001b[39m] \u001b[38;5;241m==\u001b[39m \u001b[43mimg\u001b[49m[j]:\n\u001b[0;32m     40\u001b[0m             \u001b[38;5;28;01mfor\u001b[39;00m k \u001b[38;5;129;01min\u001b[39;00m \u001b[38;5;28mrange\u001b[39m(\u001b[38;5;28mlen\u001b[39m(label)):\n\u001b[0;32m     41\u001b[0m                 \u001b[38;5;28;01mif\u001b[39;00m label2[j] \u001b[38;5;241m==\u001b[39m label[k]:\n",
      "\u001b[1;31mKeyboardInterrupt\u001b[0m: "
     ]
    }
   ],
   "source": [
    "# 结果对应\n",
    "import csv\n",
    "import numpy as np\n",
    "from tqdm import trange\n",
    "path1 = \"D:/dataset_all/bytedance/ocr_data_split/data/test_random_2w/result_test.txt\"\n",
    "path2 = \"D:/dataset_all/bytedance/ocr_data_split/data/test_random_2w/gt.txt\"\n",
    "with open(path1, 'r') as file:\n",
    "    data = [row for row in file]\n",
    "label = []\n",
    "pred = []\n",
    "for i in range(len(data)):\n",
    "    label.append(data[i].split('\\t')[0])\n",
    "    tmp = data[i].split('\\t')[1].split('\\n')[0]\n",
    "    if len(tmp) > 4:\n",
    "        pred.append(tmp[4:])\n",
    "    else:\n",
    "        pred.append(tmp)\n",
    "\n",
    "img = []\n",
    "label2 = []\n",
    "with open(path2, 'r') as file:\n",
    "    data = [row for row in file]\n",
    "for i in range(len(data)):\n",
    "    img.append(data[i].split('\\t')[0].split('/')[1])\n",
    "    label2.append(data[i].split('\\t')[1].split('\\n')[0])\n",
    "    \n",
    "\n",
    "file_data = []\n",
    "file = \"D:/dataset_all/bytedance/ocr_data_split/data/submit_sample.csv\"\n",
    "with open(file,'r') as csvfile:\n",
    "    reader = csv.reader(csvfile)\n",
    "    for row in reader:\n",
    "        file_data.append(row)\n",
    "file_data = np.array(file_data)\n",
    "file_data = file_data[1:]\n",
    "\n",
    "for i in trange(len(file_data)):\n",
    "    for j in range(len(img)):\n",
    "        if file_data[i,0] == img[j]:\n",
    "            for k in range(len(label)):\n",
    "                if label2[j] == label[k]:\n",
    "                    file_data[i,1] = pred[k]\n",
    "                    \n",
    "with open('./result.csv','w',newline='') as csvfile:\n",
    "    writer = csv.writer(csvfile)\n",
    "    for row in file_data:\n",
    "        writer.writerow(row)"
   ]
  },
  {
   "cell_type": "code",
   "execution_count": null,
   "id": "03cc10b7",
   "metadata": {},
   "outputs": [],
   "source": []
  }
 ],
 "metadata": {
  "kernelspec": {
   "display_name": "Python 3 (ipykernel)",
   "language": "python",
   "name": "python3"
  },
  "language_info": {
   "codemirror_mode": {
    "name": "ipython",
    "version": 3
   },
   "file_extension": ".py",
   "mimetype": "text/x-python",
   "name": "python",
   "nbconvert_exporter": "python",
   "pygments_lexer": "ipython3",
   "version": "3.9.13"
  },
  "varInspector": {
   "cols": {
    "lenName": 16,
    "lenType": 16,
    "lenVar": 40
   },
   "kernels_config": {
    "python": {
     "delete_cmd_postfix": "",
     "delete_cmd_prefix": "del ",
     "library": "var_list.py",
     "varRefreshCmd": "print(var_dic_list())"
    },
    "r": {
     "delete_cmd_postfix": ") ",
     "delete_cmd_prefix": "rm(",
     "library": "var_list.r",
     "varRefreshCmd": "cat(var_dic_list()) "
    }
   },
   "types_to_exclude": [
    "module",
    "function",
    "builtin_function_or_method",
    "instance",
    "_Feature"
   ],
   "window_display": false
  }
 },
 "nbformat": 4,
 "nbformat_minor": 5
}
