{
 "cells": [
  {
   "cell_type": "code",
   "execution_count": 4,
   "id": "bb2c4665",
   "metadata": {},
   "outputs": [],
   "source": [
    "import cv2\n",
    "import numpy as np"
   ]
  },
  {
   "cell_type": "code",
   "execution_count": 5,
   "id": "f5e1d2c7",
   "metadata": {
    "scrolled": true
   },
   "outputs": [],
   "source": [
    "img = cv2.imread('v0d00fg10000cb9gacjc77u3gp5qggd0_3_.jpg', cv2.IMREAD_GRAYSCALE)\n",
    "#print(img)\n",
    "cv2.imshow('image',img)\n",
    "cv2.waitKey(0)\n",
    "cv2.destroyAllWindows()"
   ]
  },
  {
   "cell_type": "code",
   "execution_count": 6,
   "id": "74faf355",
   "metadata": {},
   "outputs": [],
   "source": [
    "'''水平投影'''\n",
    "def getHProjection(image):\n",
    "    hProjection = np.zeros(image.shape,np.uint8)\n",
    "    #图像高与宽\n",
    "    (h,w)=image.shape\n",
    "    #长度与图像高度一致的数组\n",
    "    h_ = [0]*h\n",
    "    #循环统计每一行白色像素的个数\n",
    "    for y in range(h):\n",
    "        for x in range(w):\n",
    "            if image[y,x] == 255:\n",
    "                h_[y]+=1\n",
    "    #绘制水平投影图像\n",
    "    for y in range(h):\n",
    "        for x in range(h_[y]):\n",
    "            hProjection[y,x] = 255\n",
    "    cv2.imshow('hProjection2',hProjection)\n",
    "    cv2.waitKey(0)\n",
    "    cv2.destroyAllWindows()\n",
    "    return h_"
   ]
  },
  {
   "cell_type": "code",
   "execution_count": 11,
   "id": "061d4117",
   "metadata": {},
   "outputs": [],
   "source": [
    "def getVProjection(image):\n",
    "    vProjection = np.zeros(image.shape,np.uint8);\n",
    "    #图像高与宽\n",
    "    (h,w) = image.shape\n",
    "    #长度与图像宽度一致的数组\n",
    "    w_ = [0]*w\n",
    "    #循环统计每一列白色像素的个数\n",
    "    for x in range(w):\n",
    "        for y in range(h):\n",
    "            if image[y,x] == 255:\n",
    "                w_[x]+=1\n",
    "    #绘制垂直平投影图像\n",
    "    for x in range(w):\n",
    "        for y in range(h-w_[x],h):\n",
    "            vProjection[y,x] = 255\n",
    "    cv2.imshow('vProjection',vProjection)\n",
    "    cv2.waitKey(0)\n",
    "    cv2.destroyAllWindows()\n",
    "    return 0"
   ]
  },
  {
   "cell_type": "code",
   "execution_count": 13,
   "id": "cf628216",
   "metadata": {},
   "outputs": [
    {
     "data": {
      "text/plain": [
       "0"
      ]
     },
     "execution_count": 13,
     "metadata": {},
     "output_type": "execute_result"
    }
   ],
   "source": [
    "# getHProjection(cv2.imread('v0d00fg10000cb9goijc77u3mh2r0r90_1_.jpg', cv2.IMREAD_GRAYSCALE))\n",
    "cv2.imshow('1',cv2.imread('v0d00fg10000cb9kmn3c77ued6gbe3h0_8_.jpg', cv2.IMREAD_GRAYSCALE))\n",
    "getVProjection(cv2.imread('v0d00fg10000cb9kmn3c77ued6gbe3h0_8_.jpg', cv2.IMREAD_GRAYSCALE))"
   ]
  },
  {
   "cell_type": "code",
   "execution_count": 14,
   "id": "1fad14f3",
   "metadata": {},
   "outputs": [],
   "source": [
    "carplate_haar_cascade = cv2.CascadeClassifier(\"haarcascade_russian_plate_number.xml\")\n",
    "\n",
    "def carplate_detect(image):\n",
    "    carplate_overlay = image.copy()\n",
    "    carplate_rects = carplate_haar_cascade.detectMultiScale(carplate_overlay, scaleFactor = 1.1, minNeighbors = 3)\n",
    "    for x, y, w, h in carplate_rects:\n",
    "        cv2.rectangle(carplate_overlay, (x, y), (x+w, y+h), (255, 0 ,0 ), 5)\n",
    "        return carplate_overlay"
   ]
  },
  {
   "cell_type": "code",
   "execution_count": 15,
   "id": "aad6bd6a",
   "metadata": {},
   "outputs": [],
   "source": [
    "detected_carplate_img = carplate_detect(cv2.imread('v0d00fg10000cb9gacjc77u3gp5qggd0_3_.jpg', cv2.IMREAD_ANYCOLOR))\n",
    "cv2.imshow(\"detected_carplate_img\", detected_carplate_img)"
   ]
  },
  {
   "cell_type": "code",
   "execution_count": 4,
   "id": "7c4e7441",
   "metadata": {},
   "outputs": [],
   "source": [
    "import cv2  # opencv库\n",
    "\n",
    "# 读取图片\n",
    "image = cv2.imread('v0d00fg10000cb9kmn3c77ued6gbe3h0_8_.jpg')\n",
    "# 加载模型库\n",
    "cv2.imshow('1', image)\n",
    "face_model = cv2.CascadeClassifier('haarcascade_russian_plate_number.xml')\n",
    "# 图片进行灰度处理\n",
    "gray = cv2.cvtColor(image, cv2.COLOR_RGB2GRAY)\n",
    "# 车牌检测\n",
    "faces = face_model.detectMultiScale(gray)\n",
    "# 标记车牌\n",
    "for (x, y, w, h) in faces:\n",
    "    # 1.原始图片；2坐标点；3.矩形宽高 4.颜色值(RGB)；5.线框\n",
    "    cv2.rectangle(image, (x, y), (x + w, y + h), (0, 255, 0), 2)\n",
    "# 显示图片窗口\n",
    "image2=cv2.resize(image,dsize=(500,500))\n",
    "cv2.imshow('faces', image2)\n",
    "# 窗口暂停\n",
    "cv2.waitKey(0)\n",
    "# 销毁窗口\n",
    "cv2.destroyAllWindows()"
   ]
  },
  {
   "cell_type": "code",
   "execution_count": null,
   "id": "8e216a7b",
   "metadata": {},
   "outputs": [],
   "source": []
  },
  {
   "cell_type": "code",
   "execution_count": 290,
   "id": "798dde16",
   "metadata": {},
   "outputs": [],
   "source": [
    "import cv2\n",
    "import os\n",
    "import math\n",
    "from tqdm import trange\n",
    "import random\n",
    "import seaborn as sns\n",
    "import multiprocessing as mp"
   ]
  },
  {
   "cell_type": "code",
   "execution_count": 19,
   "id": "d43f30ab",
   "metadata": {},
   "outputs": [],
   "source": [
    "'''水平投影'''\n",
    "def getHProjection(image,flag=0):\n",
    "    hProjection = np.zeros(image.shape,np.uint8)\n",
    "    #图像高与宽\n",
    "    (h,w)=image.shape\n",
    "    #长度与图像高度一致的数组\n",
    "    h_ = [0]*h\n",
    "    #循环统计每一行白色像素的个数\n",
    "    for y in range(h):\n",
    "        for x in range(w):\n",
    "            if image[y,x] == 255:\n",
    "                h_[y]+=1\n",
    "    #绘制水平投影图像\n",
    "    for y in range(h):\n",
    "        for x in range(h_[y]):\n",
    "            hProjection[y,x] = 255\n",
    "    if flag == 1:\n",
    "        cv2.imshow('hProjection2',hProjection)\n",
    "#         cv2.waitKey(0)\n",
    "#         cv2.destroyAllWindows()\n",
    "    return h_\n",
    "\n",
    "def getVProjection(image,flag=0):\n",
    "    vProjection = np.zeros(image.shape,np.uint8);\n",
    "    #图像高与宽\n",
    "    (h,w) = image.shape\n",
    "    #长度与图像宽度一致的数组\n",
    "    w_ = [0]*w\n",
    "    #循环统计每一列白色像素的个数\n",
    "    for x in range(w):\n",
    "        for y in range(h):\n",
    "            if image[y,x] == 255:\n",
    "                w_[x]+=1\n",
    "    #绘制垂直平投影图像\n",
    "    for x in range(w):\n",
    "        for y in range(h-w_[x],h):\n",
    "            vProjection[y,x] = 255\n",
    "    if flag == 1:\n",
    "        cv2.imshow('vProjection',vProjection)\n",
    "    return w_"
   ]
  },
  {
   "cell_type": "code",
   "execution_count": 62,
   "id": "ae37655e",
   "metadata": {},
   "outputs": [],
   "source": [
    "file_name_list = os.listdir('images')\n",
    "# print(file_name_list)\n",
    "img = cv2.imread('images/' + file_name_list[0], cv2.IMREAD_GRAYSCALE)\n",
    "cv2.imshow('image',img)\n",
    "# cv2.waitKey(0)\n",
    "# cv2.destroyAllWindows()\n",
    "h = getHProjection(img)\n",
    "w = getVProjection(img)"
   ]
  },
  {
   "cell_type": "code",
   "execution_count": 280,
   "id": "39ddfab8",
   "metadata": {},
   "outputs": [],
   "source": [
    "def split_h(image, h, w):\n",
    "    # 判断是横屏还是竖屏，并相应的针对性处理\n",
    "    if len(h) > len(w):\n",
    "        # 竖屏模式，只考虑前向八分之一和后向八分之一的图片\n",
    "        split_range = 8\n",
    "    else:\n",
    "        split_range = 5\n",
    "    max_ = 0\n",
    "    start_max = 0\n",
    "    length = 0\n",
    "    # 前向\n",
    "    for i in range(int(len(h)/split_range)):\n",
    "        if h[i] != 0:\n",
    "            length += 1\n",
    "        else:\n",
    "            if length > max_:\n",
    "                max_ = length\n",
    "                start_max = i - length\n",
    "            length = 0\n",
    "    # 后向\n",
    "    for i in range(int(len(h)/split_range)):\n",
    "        if h[i + int(len(h)/split_range*(split_range-1))] != 0:\n",
    "            length += 1\n",
    "        else:\n",
    "            if length > max_:\n",
    "                max_ = length\n",
    "                start_max = i - length + int(len(h)/split_range*(split_range-1))\n",
    "            length = 0\n",
    "    # 错误处理\n",
    "    if start_max == 0 and max_ == 0:\n",
    "        max_ = len(h)-1\n",
    "    return start_max, start_max+max_"
   ]
  },
  {
   "cell_type": "code",
   "execution_count": 281,
   "id": "8df26e43",
   "metadata": {},
   "outputs": [],
   "source": [
    "def split_w(img, h, w):\n",
    "    #滑动窗口,简单前后向遍历\n",
    "    start = 0\n",
    "    end = len(w)-1\n",
    "    for i in range(len(w)):\n",
    "        if w[i] == 0:\n",
    "            pass\n",
    "        else:\n",
    "            start = i\n",
    "            break\n",
    "    for i in range(len(w)):\n",
    "        if w[len(w)-1-i] == 0:\n",
    "            pass\n",
    "        else:\n",
    "            end = len(w)-i\n",
    "            break\n",
    "    return start, end\n",
    "                \n",
    "    "
   ]
  },
  {
   "cell_type": "code",
   "execution_count": 57,
   "id": "5ac1d4bf",
   "metadata": {},
   "outputs": [
    {
     "name": "stderr",
     "output_type": "stream",
     "text": [
      "100%|███████████████████████████████████████████████████████████████████████████████████████████████████████████████████████████████████████████████████████████████████████| 69/69 [01:02<00:00,  1.10it/s]\n"
     ]
    }
   ],
   "source": [
    "for i in trange(len(file_name_list)):\n",
    "    img = cv2.imread('images/' + file_name_list[i], cv2.IMREAD_GRAYSCALE)\n",
    "    h = getHProjection(img)\n",
    "    w = getVProjection(img)\n",
    "    start_h, end_h = split_h(img, h, w)\n",
    "    # 不好切得直接扔掉\n",
    "    if start_h == 0:\n",
    "        continue\n",
    "    img = img[start_h : end_h]\n",
    "    w_new = getVProjection(img)\n",
    "    start_w, end_w = split_w(img, h, w_new)\n",
    "    if 10 < (end_h - start_h) < 20 and 100 < (end_w - start_w) < 200:\n",
    "        pass\n",
    "    else:\n",
    "        continue\n",
    "    img = img[:,start_w:end_w]\n",
    "    cv2.imwrite('split_images/'+file_name_list[i], img)"
   ]
  },
  {
   "cell_type": "code",
   "execution_count": 292,
   "id": "53b76f27",
   "metadata": {},
   "outputs": [],
   "source": [
    "# 随机切五千张\n",
    "file_name_list = os.listdir(\"D:/dataset_all/bytedance/ocr_data_split/data/train_random_8w/train_set_random\")\n",
    "file_name_list = random.sample(file_name_list,40000)\n",
    "global file_name_list\n",
    "\n",
    "def worker(location):\n",
    "    sub_list = file_name_list[i*8000:(i+1)*8000].copy()\n",
    "    for i in trange(len(sub_list)):\n",
    "        img = cv2.imread(\"D:/dataset_all/bytedance/ocr_data_split/data/train_random_8w/train_set_random/\" + sub_list[i], cv2.IMREAD_GRAYSCALE)\n",
    "        h = getHProjection(img)\n",
    "        w = getVProjection(img)\n",
    "        start_h, end_h = split_h(img, h, w)\n",
    "        # 不好切得直接扔掉\n",
    "        if start_h == 0:\n",
    "            continue\n",
    "        img = img[start_h : end_h]\n",
    "        w_new = getVProjection(img)\n",
    "        start_w, end_w = split_w(img, h, w_new)\n",
    "        if 10 < (end_h - start_h) < 20 and 100 < (end_w - start_w) < 200:\n",
    "            pass\n",
    "        else:\n",
    "            continue\n",
    "        img = img[:,start_w:end_w]\n",
    "        cv2.imwrite('split_images_4w/'+sub_list[i], img)\n",
    "    \n",
    "    \n",
    "    \n",
    "# p1 = mp.Process(target=worker,args=(0,))\n",
    "# p2 = mp.Process(target=worker,args=(1,))\n",
    "# p1.start()\n",
    "# p1.join()\n",
    "# p2.start()\n",
    "# p2.join()\n",
    "record = []\n",
    "for i in range(5):\n",
    "    process = multiprocessing.Process(target=worker, args=(i,))\n",
    "    process.start()\n",
    "    record.append(process)\n",
    "\n",
    "for process in record:\n",
    "    process.join()\n"
   ]
  },
  {
   "cell_type": "code",
   "execution_count": null,
   "id": "20d22f03",
   "metadata": {},
   "outputs": [],
   "source": []
  },
  {
   "cell_type": "code",
   "execution_count": 14,
   "id": "d64c5b87",
   "metadata": {},
   "outputs": [
    {
     "name": "stderr",
     "output_type": "stream",
     "text": [
      "100%|██████████████████████████████████████████████████████████████████████████████████████████████████████████████████████████████████████████████████████████████████| 5000/5000 [00:13<00:00, 372.00it/s]\n"
     ]
    },
    {
     "data": {
      "text/plain": [
       "<seaborn.axisgrid.FacetGrid at 0x13a54b183a0>"
      ]
     },
     "execution_count": 14,
     "metadata": {},
     "output_type": "execute_result"
    },
    {
     "data": {
      "image/png": "[encoded data removed]",
      "text/plain": [
       "<Figure size 360x360 with 1 Axes>"
      ]
     },
     "metadata": {
      "needs_background": "light"
     },
     "output_type": "display_data"
    }
   ],
   "source": [
    "# 降低分辨率之后再切割（训练集测试集通用切割）\n",
    "\n",
    "# 查看训练集和测试集中的平均宽和高，以便对训练集进行降分辨倍率,降低两倍的分辨率\n",
    "h_total = 0\n",
    "w_total = 0\n",
    "h_list = []\n",
    "num = 0\n",
    "file_name_list = os.listdir(\"D:/dataset_all/bytedance/ocr_data_split/data/train_random_8w/train_set_random\")\n",
    "file_name_list = random.sample(file_name_list,5000)\n",
    "for i in trange(len(file_name_list)):\n",
    "    img = cv2.imread(\"D:/dataset_all/bytedance/ocr_data_split/data/train_random_8w/train_set_random/\" + file_name_list[i], cv2.IMREAD_GRAYSCALE)\n",
    "    h= len(img)\n",
    "    w= len(img[0])\n",
    "#     if h > w:\n",
    "#         h_total += h\n",
    "#         w_total += w\n",
    "#         num += 1\n",
    "# print('平均高和宽为:', h_total/num, w_total/num, num)\n",
    "# 看一下是否有特殊的分布\n",
    "    if h > w:\n",
    "        h_list.append(h)\n",
    "sns.displot(h_list,bins=20,kde=True)"
   ]
  },
  {
   "cell_type": "code",
   "execution_count": 5,
   "id": "bca48733",
   "metadata": {},
   "outputs": [
    {
     "name": "stdout",
     "output_type": "stream",
     "text": [
      "torch.Size([1, 15, 160])\n"
     ]
    }
   ],
   "source": [
    "# 降低训练集分辨率，试一下maxpooling和averagepooling\n",
    "import torch\n",
    "import torch.nn as nn\n",
    "import torch.nn.functional as F\n",
    "import cv2\n",
    "import os\n",
    "\n",
    "file_name_list = os.listdir(\"D:/python_project/learn-pytorch/bytedance_competition/split_images\")\n",
    "img = cv2.imread(\"D:/python_project/learn-pytorch/bytedance_competition/split_images/\" + file_name_list[2], cv2.IMREAD_GRAYSCALE)\n",
    "\n",
    "x = torch.from_numpy(img).float()\n",
    "x = x.unsqueeze(0)\n",
    "# 先定义x\n",
    "layer = nn.MaxPool2d(2, stride=1)\n",
    "# 括号内第一个参数是:窗口的大小,第二个是移动的步长距离\n",
    "out1 = layer(x)\n",
    "print(out1.size())\n",
    "\n",
    "out1 = out1.squeeze(0)\n",
    "img_low = out1.numpy()\n",
    "img_low = img_low.astype(np.uint8)\n",
    "\n",
    "cv2.imshow('1',img)\n",
    "cv2.imshow('2',img_low)\n",
    "cv2.waitKey(0)\n",
    "cv2.destroyAllWindows()"
   ]
  },
  {
   "cell_type": "code",
   "execution_count": 11,
   "id": "218cadcc",
   "metadata": {},
   "outputs": [
    {
     "name": "stderr",
     "output_type": "stream",
     "text": [
      "100%|██████████████████████████████████████████████████████████████████████████████████████████████████████████████████████████████████████████████████████████████████| 3019/3019 [00:17<00:00, 171.59it/s]\n"
     ]
    }
   ],
   "source": [
    "# 全部用maxpooling再生成低分辨率的训练集\n",
    "from tqdm import trange\n",
    "\n",
    "layer = nn.MaxPool2d(2, stride=2)\n",
    "\n",
    "file_name_list = os.listdir(\"D:/python_project/learn-pytorch/bytedance_competition/split_images\")\n",
    "for i in trange(len(file_name_list)):\n",
    "    img = cv2.imread(\"D:/python_project/learn-pytorch/bytedance_competition/split_images/\" + file_name_list[i], cv2.IMREAD_GRAYSCALE)\n",
    "    x = torch.from_numpy(img).float()\n",
    "    x = x.unsqueeze(0)\n",
    "    out1 = layer(x)\n",
    "    out1 = out1.squeeze(0)\n",
    "    img_low = out1.numpy()\n",
    "    img_low = img_low.astype(np.uint8)\n",
    "    cv2.imwrite('low_maxpool_split_images/'+file_name_list[i], img_low)"
   ]
  },
  {
   "cell_type": "code",
   "execution_count": 27,
   "id": "439a4668",
   "metadata": {},
   "outputs": [
    {
     "data": {
      "text/plain": [
       "<seaborn.axisgrid.FacetGrid at 0x26c81384880>"
      ]
     },
     "execution_count": 27,
     "metadata": {},
     "output_type": "execute_result"
    },
    {
     "data": {
      "image/png": "[encoded data removed]",
      "text/plain": [
       "<Figure size 360x360 with 1 Axes>"
      ]
     },
     "metadata": {
      "needs_background": "light"
     },
     "output_type": "display_data"
    }
   ],
   "source": [
    "# 看一下抖音号位数有什么特点\n",
    "import csv\n",
    "import seaborn as sns\n",
    "from matplotlib import pyplot as plt\n",
    "\n",
    "filepath = \"D:/dataset_all/bytedance/ocr_data_split/data/dataset_train_random.csv\"\n",
    "with open(filepath, 'r') as csvfile:\n",
    "    reader = csv.reader(csvfile)\n",
    "    data = [row for row in reader]\n",
    "    \n",
    "length = [len(row[1]) for row in data]\n",
    "sns.displot(length,kde=True)"
   ]
  },
  {
   "cell_type": "code",
   "execution_count": 51,
   "id": "f2b89db5",
   "metadata": {},
   "outputs": [],
   "source": [
    "# 尝试按单字符切分\n",
    "file_name_list = os.listdir(\"D:/python_project/learn-pytorch/bytedance_competition/low_avgpool_split_images\")\n",
    "img = cv2.imread(\"D:/python_project/learn-pytorch/bytedance_competition/low_avgpool_split_images/\" + file_name_list[7],cv2.IMREAD_GRAYSCALE)\n",
    "cv2.imshow('1',img)\n",
    "# h = getHProjection(img,1)\n",
    "# w = getVProjection(img,1)\n",
    "\n",
    "cv2.waitKey(0)\n",
    "cv2.destroyAllWindows()"
   ]
  },
  {
   "cell_type": "code",
   "execution_count": 55,
   "id": "375fc1ab",
   "metadata": {},
   "outputs": [
    {
     "data": {
      "image/png": "[encoded data removed]",
      "text/plain": [
       "<Figure size 432x288 with 1 Axes>"
      ]
     },
     "metadata": {
      "needs_background": "light"
     },
     "output_type": "display_data"
    }
   ],
   "source": [
    "V = [sum(img[:,i]) for i in range(len(img[0]))]\n",
    "plt.plot([_ for _ in range(len(V))],V)\n",
    "plt.show()"
   ]
  },
  {
   "cell_type": "code",
   "execution_count": 41,
   "id": "386a3c42",
   "metadata": {},
   "outputs": [],
   "source": [
    "from scipy import stats\n",
    "# 计算推土机距离\n",
    "def cal_EM_distance(a,b):\n",
    "    return stats.wasserstein_distance(a,b)"
   ]
  },
  {
   "cell_type": "code",
   "execution_count": 331,
   "id": "2cb09223",
   "metadata": {},
   "outputs": [
    {
     "name": "stderr",
     "output_type": "stream",
     "text": [
      "100%|████████████████████████████████████████████████████████████████████████████████████████████████████████████████████████████████████████████████████████████████| 20432/20432 [00:43<00:00, 466.12it/s]\n"
     ]
    }
   ],
   "source": [
    "# 找一个抖音号位置的平均值作为模板，使用EM距离作比较\n",
    "sum_num = [0 for _ in range(200)]\n",
    "file_name_list = os.listdir(\"D:/python_project/learn-pytorch/bytedance_competition/split_images_4w/\")\n",
    "for i in trange(len(file_name_list)):\n",
    "    img = cv2.imread(\"D:/python_project/learn-pytorch/bytedance_competition/split_images_4w/\" + file_name_list[i],cv2.IMREAD_GRAYSCALE)\n",
    "    V = [sum(img[:,i]) for i in range(len(img[0]))]\n",
    "    for i in range(len(V)):\n",
    "        sum_num[i] += V[i]\n",
    "model = [int(sum_num[i]/len(file_name_list)/10) for i in range(57)]"
   ]
  },
  {
   "cell_type": "code",
   "execution_count": 333,
   "id": "5089235a",
   "metadata": {},
   "outputs": [
    {
     "data": {
      "image/png": "[encoded data removed]",
      "text/plain": [
       "<Figure size 432x288 with 1 Axes>"
      ]
     },
     "metadata": {
      "needs_background": "light"
     },
     "output_type": "display_data"
    }
   ],
   "source": [
    "plt.plot([_ for _ in range(len(model))],model)\n",
    "plt.show()"
   ]
  },
  {
   "cell_type": "code",
   "execution_count": 387,
   "id": "fbcfbb2a",
   "metadata": {},
   "outputs": [
    {
     "data": {
      "image/png": "[encoded data removed]",
      "text/plain": [
       "<Figure size 432x288 with 1 Axes>"
      ]
     },
     "metadata": {
      "needs_background": "light"
     },
     "output_type": "display_data"
    },
    {
     "name": "stdout",
     "output_type": "stream",
     "text": [
      "[483.2, 481.2, 481.6, 483.0, 478.2, 468.8, 465.6, 459.0, 456.0, 456.8, 459.6, 451.6, 441.4, 441.2]\n"
     ]
    },
    {
     "ename": "IndexError",
     "evalue": "list index out of range",
     "output_type": "error",
     "traceback": [
      "\u001b[1;31m---------------------------------------------------------------------------\u001b[0m",
      "\u001b[1;31mIndexError\u001b[0m                                Traceback (most recent call last)",
      "Input \u001b[1;32mIn [387]\u001b[0m, in \u001b[0;36m<cell line: 47>\u001b[1;34m()\u001b[0m\n\u001b[0;32m     46\u001b[0m current \u001b[38;5;241m=\u001b[39m location_around[top]\n\u001b[0;32m     47\u001b[0m \u001b[38;5;28;01mfor\u001b[39;00m i \u001b[38;5;129;01min\u001b[39;00m \u001b[38;5;28mrange\u001b[39m(\u001b[38;5;241m7\u001b[39m):\n\u001b[1;32m---> 48\u001b[0m     \u001b[38;5;28;01mif\u001b[39;00m \u001b[43mlocation_around\u001b[49m\u001b[43m[\u001b[49m\u001b[43mtop\u001b[49m\u001b[43m \u001b[49m\u001b[38;5;241;43m+\u001b[39;49m\u001b[43m \u001b[49m\u001b[43mi\u001b[49m\u001b[43m]\u001b[49m \u001b[38;5;241m>\u001b[39m current:\n\u001b[0;32m     49\u001b[0m         \u001b[38;5;28;01mbreak\u001b[39;00m\n\u001b[0;32m     50\u001b[0m     \u001b[38;5;28;01melse\u001b[39;00m:\n",
      "\u001b[1;31mIndexError\u001b[0m: list index out of range"
     ]
    }
   ],
   "source": [
    "# 除以10做缩放\n",
    "# 要检测出50-60之间比较低的峰\n",
    "file_name_list = os.listdir(\"D:/python_project/learn-pytorch/bytedance_competition/split_images_4w\")\n",
    "img = cv2.imread(\"D:/python_project/learn-pytorch/bytedance_competition/split_images_4w/\" + file_name_list[0],cv2.IMREAD_GRAYSCALE)\n",
    "\n",
    "small_model = model[40:].copy()\n",
    "\n",
    "current = 0\n",
    "V = [int(sum(img[:,i])/10) for i in range(60)]\n",
    "plt.plot([_ for _ in range(len(V))],V)\n",
    "plt.show()\n",
    "\n",
    "# for _ in range(10):\n",
    "#     V = [int(sum(img[:,i])/10) for i in range(50 + _)]\n",
    "#     dist = stats.wasserstein_distance(model,V)\n",
    "#     print(dist)\n",
    "#     if dist > current:\n",
    "#         current = dist\n",
    "#     else:\n",
    "#         location = 50 + _\n",
    "#         break\n",
    "# print(location)\n",
    "\n",
    "V = [int(sum(img[:,i])/10) for i in range(60)]\n",
    "location_around = V[45:]\n",
    "location_around = [location_around[i] + location_around[i+1] * 0.2 for i in range(14)]\n",
    "print(location_around)\n",
    "peak = []\n",
    "peak_num = []\n",
    "past = 0\n",
    "flag = 0\n",
    "for i in range(len(location_around)):\n",
    "    if flag == 1:\n",
    "        if location_around[i] < past:\n",
    "            peak.append(i-1)\n",
    "            flag = 0\n",
    "        else:\n",
    "            flag = 0\n",
    "    if location_around[i] > past:\n",
    "        flag = 1\n",
    "        past = location_around[i]\n",
    "    else:\n",
    "        past = location_around[i]\n",
    "peak_num = [location_around[item] for item in peak]\n",
    "top = peak[peak_num.index(min(peak_num))]\n",
    "current = location_around[top]\n",
    "for i in range(7):\n",
    "    if location_around[top + i] > current:\n",
    "        break\n",
    "    else:\n",
    "        current = location_around[top + i]\n",
    "location = top + i + 44\n",
    "print(location)\n",
    "print(V[location:])"
   ]
  },
  {
   "cell_type": "code",
   "execution_count": 28,
   "id": "e6301fa6",
   "metadata": {},
   "outputs": [
    {
     "name": "stderr",
     "output_type": "stream",
     "text": [
      "100%|██████████████████████████████████████████████████████████████████████████████████████████████████████████████████████████████████████████████████████████████████| 8369/8369 [00:12<00:00, 645.69it/s]\n"
     ]
    }
   ],
   "source": [
    "# 切掉抖音号\n",
    "file_name_list = os.listdir(\"D:/dataset_all/bytedance/ocr_data_split/data/test_random_2w/test_set_random_high_split\")\n",
    "for i in trange(len(file_name_list)):\n",
    "    try:\n",
    "        img = cv2.imread(\"D:/dataset_all/bytedance/ocr_data_split/data/test_random_2w/test_set_random_high_split/\" + file_name_list[i],cv2.IMREAD_GRAYSCALE)\n",
    "        V = [int(sum(img[:,i])/10) for i in range(60)]\n",
    "        location_around = V[45:]\n",
    "        location_around = [location_around[i] + location_around[i+1] * 0.2 for i in range(14)]\n",
    "        peak = []\n",
    "        peak_num = []\n",
    "        past = 0\n",
    "        flag = 0\n",
    "        for j in range(len(location_around)):\n",
    "            if flag == 1:\n",
    "                if location_around[j] < past:\n",
    "                    peak.append(j-1)\n",
    "                    flag = 0\n",
    "                else:\n",
    "                    flag = 0\n",
    "            if location_around[j] > past:\n",
    "                flag = 1\n",
    "                past = location_around[j]\n",
    "            else:\n",
    "                past = location_around[j]\n",
    "        peak_num = [location_around[item] for item in peak]\n",
    "        top = peak[peak_num.index(min(peak_num))]\n",
    "        current = location_around[top]\n",
    "        for j in range(13-top):\n",
    "            if location_around[top + j] > current:\n",
    "                break\n",
    "            else:\n",
    "                current = location_around[top + j]\n",
    "        location = top + j + 44\n",
    "        img = img[:,location:]\n",
    "        cv2.imwrite(\"D:/dataset_all/bytedance/ocr_data_split/data/test_random_2w/test_set_random_high_resplit/\"+file_name_list[i], img)\n",
    "    except:\n",
    "        pass"
   ]
  },
  {
   "cell_type": "code",
   "execution_count": 30,
   "id": "29f65215",
   "metadata": {},
   "outputs": [],
   "source": [
    "import csv"
   ]
  },
  {
   "cell_type": "code",
   "execution_count": 52,
   "id": "cfedcbb2",
   "metadata": {},
   "outputs": [
    {
     "name": "stderr",
     "output_type": "stream",
     "text": [
      "100%|█████████████████████████████████████████████████████████████████████████████████████████████████████████████████████████████████████████████████████████████████| 20430/20430 [03:58<00:00, 85.64it/s]\n"
     ]
    }
   ],
   "source": [
    "# 对文件按照标签改名\n",
    "filepath = \"D:/dataset_all/bytedance/ocr_data_split/data/dataset_train_random.csv\"\n",
    "with open(filepath, 'r') as csvfile:\n",
    "    reader = csv.reader(csvfile)\n",
    "    data = [row for row in reader]\n",
    "\n",
    "file_name_list = os.listdir(\"D:/python_project/learn-pytorch/bytedance_competition/split_images_4w\")\n",
    "for j in trange(len(file_name_list)):\n",
    "    for i in range(len(data)):\n",
    "        if data[i][0] == file_name_list[j]:\n",
    "            os.rename(\"D:/python_project/learn-pytorch/bytedance_competition/split_images_4w/\" + file_name_list[j], \"D:/python_project/learn-pytorch/bytedance_competition/split_images_4w/\" + data[i][1] + '.jpg')\n",
    "            break"
   ]
  },
  {
   "cell_type": "code",
   "execution_count": 154,
   "id": "ab86d4b7",
   "metadata": {},
   "outputs": [
    {
     "name": "stderr",
     "output_type": "stream",
     "text": [
      "100%|██████████████████████████████████████████████████████████████████████████████████████████████████████████████████████████████████████████████████████████████████| 3019/3019 [00:05<00:00, 508.29it/s]\n"
     ]
    }
   ],
   "source": [
    "# 用卷积预测一下抖音号的长度\n",
    "import shutil\n",
    "\n",
    "# 先按照抖音号长度生成数据集\n",
    "file_name_list = os.listdir(\"D:/python_project/learn-pytorch/bytedance_competition/low_avgpool_resplit_images\")\n",
    "for i in trange(len(file_name_list)):\n",
    "    path = \"D:/python_project/learn-pytorch/bytedance_competition/length_classifier/\" + str(len(file_name_list[i])-4) + \"/\" + file_name_list[i]\n",
    "    shutil.copyfile(\"D:/python_project/learn-pytorch/bytedance_competition/low_avgpool_resplit_images/\" + file_name_list[i], path)"
   ]
  },
  {
   "cell_type": "code",
   "execution_count": 171,
   "id": "29a0dfd2",
   "metadata": {},
   "outputs": [],
   "source": [
    "from torchvision.datasets import ImageFolder\n",
    "from torchvision import transforms\n",
    "import torchvision\n",
    "\n",
    "train_loader = torch.utils.data.DataLoader(\n",
    "    ImageFolder('./length_classifier', transform=torchvision.transforms.Compose([\n",
    "                                  torchvision.transforms.Resize([8,70]),\n",
    "                                  torchvision.transforms.ToTensor(),\n",
    "                              ])),\n",
    "    batch_size=32, shuffle=True\n",
    ")\n",
    " \n",
    "val_loader = torch.utils.data.DataLoader(\n",
    "    ImageFolder('./length_classifier', transform=torchvision.transforms.Compose([\n",
    "                                  torchvision.transforms.Resize([8,70]),\n",
    "                                  torchvision.transforms.ToTensor(),\n",
    "                              ])),\n",
    "    batch_size=300, shuffle=True\n",
    ")"
   ]
  },
  {
   "cell_type": "code",
   "execution_count": 172,
   "id": "332e900a",
   "metadata": {
    "collapsed": true
   },
   "outputs": [
    {
     "name": "stdout",
     "output_type": "stream",
     "text": [
      "Net(\n",
      "  (net): Sequential(\n",
      "    (0): Conv2d(3, 6, kernel_size=(3, 3), stride=(1, 1))\n",
      "    (1): BatchNorm2d(6, eps=1e-05, momentum=0.1, affine=True, track_running_stats=True)\n",
      "    (2): Conv2d(6, 10, kernel_size=(3, 3), stride=(1, 1))\n",
      "    (3): BatchNorm2d(10, eps=1e-05, momentum=0.1, affine=True, track_running_stats=True)\n",
      "    (4): MaxPool2d(kernel_size=2, stride=1, padding=0, dilation=1, ceil_mode=False)\n",
      "    (5): Flatten(start_dim=1, end_dim=-1)\n",
      "    (6): Linear(in_features=1950, out_features=640, bias=True)\n",
      "    (7): ReLU(inplace=True)\n",
      "    (8): Linear(in_features=640, out_features=84, bias=True)\n",
      "    (9): ReLU(inplace=True)\n",
      "    (10): Linear(in_features=84, out_features=8, bias=True)\n",
      "  )\n",
      ")\n",
      "0 train acc:  tensor(0.1722)\n",
      "eval acc:  0.25770121812820435\n",
      "1 train acc:  tensor(0.2690)\n",
      "eval acc:  0.3570718765258789\n",
      "2 train acc:  tensor(0.3422)\n",
      "eval acc:  0.4263001084327698\n",
      "3 train acc:  tensor(0.3842)\n",
      "eval acc:  0.4895660877227783\n",
      "4 train acc:  tensor(0.4366)\n",
      "eval acc:  0.48492878675460815\n",
      "5 train acc:  tensor(0.5190)\n",
      "eval acc:  0.6021861433982849\n",
      "6 train acc:  tensor(0.5644)\n",
      "eval acc:  0.6154356002807617\n",
      "7 train acc:  tensor(0.6370)\n",
      "eval acc:  0.7263994812965393\n",
      "8 train acc:  tensor(0.7022)\n",
      "eval acc:  0.7899966835975647\n",
      "9 train acc:  tensor(0.7873)\n",
      "eval acc:  0.8406757116317749\n",
      "10 train acc:  tensor(0.8407)\n",
      "eval acc:  0.8800927400588989\n",
      "11 train acc:  tensor(0.8867)\n",
      "eval acc:  0.8764491677284241\n",
      "12 train acc:  tensor(0.9149)\n",
      "eval acc:  0.8893673419952393\n",
      "13 train acc:  tensor(0.9314)\n",
      "eval acc:  0.9407088160514832\n",
      "14 train acc:  tensor(0.9391)\n",
      "eval acc:  0.9652202725410461\n",
      "15 train acc:  tensor(0.9271)\n",
      "eval acc:  0.9354090690612793\n",
      "16 train acc:  tensor(0.9533)\n",
      "eval acc:  0.9715137481689453\n",
      "17 train acc:  tensor(0.9622)\n",
      "eval acc:  0.9831069707870483\n",
      "18 train acc:  tensor(0.9785)\n",
      "eval acc:  0.97052001953125\n",
      "19 train acc:  tensor(0.9500)\n",
      "eval acc:  0.9831069707870483\n",
      "20 train acc:  tensor(0.9891)\n",
      "eval acc:  0.9870818257331848\n",
      "21 train acc:  tensor(0.9967)\n",
      "eval acc:  0.9990062713623047\n",
      "22 train acc:  tensor(0.9970)\n",
      "eval acc:  0.9930440783500671\n",
      "23 train acc:  tensor(0.9914)\n",
      "eval acc:  0.998343825340271\n",
      "24 train acc:  tensor(0.9944)\n",
      "eval acc:  0.9960251450538635\n",
      "25 train acc:  tensor(0.9861)\n",
      "eval acc:  0.9870818257331848\n",
      "26 train acc:  tensor(0.9881)\n",
      "eval acc:  0.9708513021469116\n",
      "27 train acc:  tensor(0.9934)\n",
      "eval acc:  0.9264656901359558\n",
      "28 train acc:  tensor(0.9738)\n",
      "eval acc:  0.9549519419670105\n",
      "29 train acc:  tensor(0.9682)\n",
      "eval acc:  0.9811195731163025\n",
      "30 train acc:  tensor(0.9675)\n",
      "eval acc:  0.8959920406341553\n",
      "31 train acc:  tensor(0.9874)\n",
      "eval acc:  0.9821133017539978\n",
      "32 train acc:  tensor(0.9960)\n",
      "eval acc:  0.9996687769889832\n",
      "33 train acc:  tensor(0.9997)\n",
      "eval acc:  0.9996687769889832\n",
      "34 train acc:  tensor(0.9993)\n",
      "eval acc:  0.9996687769889832\n",
      "35 train acc:  tensor(0.9997)\n",
      "eval acc:  0.9996687769889832\n",
      "36 train acc:  tensor(0.9997)\n",
      "eval acc:  0.9996687769889832\n",
      "37 train acc:  tensor(0.9993)\n",
      "eval acc:  0.9996687769889832\n",
      "38 train acc:  tensor(0.9997)\n",
      "eval acc:  0.9996687769889832\n",
      "39 train acc:  tensor(0.9997)\n",
      "eval acc:  0.9996687769889832\n"
     ]
    }
   ],
   "source": [
    "import torch.nn as nn\n",
    "import torch.nn.functional as F\n",
    "import tqdm\n",
    "\n",
    "# 定义卷积神经网络结构\n",
    "class Net(nn.Module):\n",
    "    def __init__(self):\n",
    "        super(Net, self).__init__()\n",
    "        # 输入是[8,70]\n",
    "        self.net = nn.Sequential(\n",
    "            nn.Conv2d(3, 6, kernel_size=3, stride=1, padding=0),\n",
    "            nn.BatchNorm2d(6),\n",
    "#             nn.MaxPool2d(kernel_size=2, stride=2, padding=0),\n",
    "            nn.Conv2d(6, 10, kernel_size=3, stride=1, padding=0),\n",
    "            nn.BatchNorm2d(10),\n",
    "            nn.MaxPool2d(kernel_size=2, stride=1, padding=0),\n",
    "            nn.Flatten(),\n",
    "            nn.Linear(1950,640),\n",
    "            nn.ReLU(inplace=True),\n",
    "            nn.Linear(640, 84), \n",
    "            nn.ReLU(inplace=True),\n",
    "            nn.Linear(84, 8)\n",
    "        )\n",
    "\n",
    "    def forward(self, x):\n",
    "        x = self.net(x)\n",
    "        return x\n",
    "\n",
    "# create a complete CNN\n",
    "model = Net()\n",
    "print(model)\n",
    "\n",
    "\n",
    "criteon = nn.CrossEntropyLoss()\n",
    "optimizer = torch.optim.Adam(model.parameters(), lr=0.001)\n",
    "for epoch in range(40):\n",
    "    model.train()\n",
    "    correct_train = 0\n",
    "    for batch_idx, (x, target) in enumerate(train_loader):\n",
    "        logits = model(x)\n",
    "        loss = criteon(logits, target)\n",
    "        \n",
    "        optimizer.zero_grad()\n",
    "        loss.backward()\n",
    "        optimizer.step()\n",
    "    \n",
    "        correct_train += torch.eq(logits.data.max(1)[1], target.data).sum()\n",
    "        \n",
    "    print(epoch, 'train acc: ', correct_train/len(train_loader.dataset))\n",
    "    \n",
    "    # eval\n",
    "    model.eval()\n",
    "    correct = 0\n",
    "    for x, target in val_loader:\n",
    "        logits = model(x)\n",
    "        correct += torch.eq(logits.data.max(1)[1], target.data).sum()\n",
    "        \n",
    "    acc = (correct/len(val_loader.dataset)).item()\n",
    "    print('eval acc: ', acc)"
   ]
  },
  {
   "cell_type": "code",
   "execution_count": 174,
   "id": "e62da233",
   "metadata": {},
   "outputs": [],
   "source": [
    "# 试一下直接等距分割,两边各补充一个像素\n",
    "# 大概可以得知抖音号的位数，后面先用groundtruth来做下一步\n",
    "file_name_list = os.listdir(\"D:/python_project/learn-pytorch/bytedance_competition/length_classifier/8\")\n",
    "img = cv2.imread(\"D:/python_project/learn-pytorch/bytedance_competition/length_classifier/8/\"+file_name_list[0], cv2.IMREAD_GRAYSCALE)\n",
    "\n",
    "cv2.imshow('1',img)\n",
    "cv2.waitKey(0)\n",
    "cv2.destroyAllWindows()"
   ]
  },
  {
   "cell_type": "code",
   "execution_count": 217,
   "id": "32628e68",
   "metadata": {},
   "outputs": [],
   "source": [
    "for i in range(10):\n",
    "    os.mkdir(\"D:/python_project/learn-pytorch/bytedance_competition/char_classifier/val/\" + str(i))"
   ]
  },
  {
   "cell_type": "code",
   "execution_count": 214,
   "id": "29e6ba41",
   "metadata": {},
   "outputs": [
    {
     "name": "stderr",
     "output_type": "stream",
     "text": [
      "100%|█████████████████████████████████████████████████████████████████████████████████████████████████████████████████████████████████████████████████████████████████████| 162/162 [00:02<00:00, 55.45it/s]\n"
     ]
    }
   ],
   "source": [
    "file_name_list = os.listdir(\"D:/python_project/learn-pytorch/bytedance_competition/length_classifier/15\")\n",
    "for j in trange(len(file_name_list)):\n",
    "    img = cv2.imread(\"D:/python_project/learn-pytorch/bytedance_competition/length_classifier/15/\"+file_name_list[j], cv2.IMREAD_GRAYSCALE)\n",
    "    flag = file_name_list[j][:15]\n",
    "    length = len(img[0])\n",
    "    split = int(length/15)\n",
    "    if length%15 == 0:\n",
    "        plus_time = 100\n",
    "    else:\n",
    "        plus_time = int(15/(length%15))\n",
    "\n",
    "    start = 0\n",
    "    for i in range(15):\n",
    "        if i%plus_time == 0:\n",
    "            start += 1\n",
    "        if i == 0:\n",
    "            img_tmp = img[:,start:start+split+1]\n",
    "        elif i == 14:\n",
    "            img_tmp = img[:,start-1:]\n",
    "        else:\n",
    "            img_tmp = img[:,start-1:start+split+1]\n",
    "        start += split\n",
    "        try:\n",
    "            if 'A' <= file_name_list[j][i] <= 'Z':\n",
    "                cv2.imwrite(\"D:/python_project/learn-pytorch/bytedance_competition/char_classifier/\"+file_name_list[j][i].lower()+file_name_list[j][i].lower()+'/'+file_name_list[j], img_tmp)\n",
    "            else:\n",
    "                cv2.imwrite(\"D:/python_project/learn-pytorch/bytedance_competition/char_classifier/\"+file_name_list[j][i]+'/'+file_name_list[j], img_tmp)\n",
    "        except:\n",
    "            pass"
   ]
  },
  {
   "cell_type": "code",
   "execution_count": 221,
   "id": "f2defc5a",
   "metadata": {},
   "outputs": [],
   "source": [
    "#构建训练集和验证集，7:3\n",
    "import random\n",
    "father_file_name_list = os.listdir(\"D:/python_project/learn-pytorch/bytedance_competition/char_classifier/train\")\n",
    "for i in range(len(father_file_name_list)):\n",
    "    child_file_name_list = os.listdir(\"D:/python_project/learn-pytorch/bytedance_competition/char_classifier/train/\" + father_file_name_list[i])\n",
    "    val = random.sample(child_file_name_list, int(len(child_file_name_list)*0.3))\n",
    "    for item in val:\n",
    "        shutil.move(\"D:/python_project/learn-pytorch/bytedance_competition/char_classifier/train/\" + father_file_name_list[i] + '/' + item, \"D:/python_project/learn-pytorch/bytedance_competition/char_classifier/val/\" + father_file_name_list[i] + '/' + item)"
   ]
  },
  {
   "cell_type": "code",
   "execution_count": 222,
   "id": "c48ce801",
   "metadata": {},
   "outputs": [],
   "source": [
    "# 构建模型训练\n",
    "from torchvision.datasets import ImageFolder\n",
    "from torchvision import transforms\n",
    "import torchvision\n",
    "\n",
    "train_loader = torch.utils.data.DataLoader(\n",
    "    ImageFolder('./char_classifier/train', transform=torchvision.transforms.Compose([\n",
    "                                  torchvision.transforms.Resize([8,8]),\n",
    "                                  torchvision.transforms.ToTensor(),\n",
    "                              ])),\n",
    "    batch_size=32, shuffle=True\n",
    ")\n",
    " \n",
    "val_loader = torch.utils.data.DataLoader(\n",
    "    ImageFolder('./char_classifier/val', transform=torchvision.transforms.Compose([\n",
    "                                  torchvision.transforms.Resize([8,8]),\n",
    "                                  torchvision.transforms.ToTensor(),\n",
    "                              ])),\n",
    "    batch_size=300, shuffle=True\n",
    ")"
   ]
  },
  {
   "cell_type": "code",
   "execution_count": 226,
   "id": "a9d30b2c",
   "metadata": {},
   "outputs": [
    {
     "name": "stdout",
     "output_type": "stream",
     "text": [
      "Net(\n",
      "  (net): Sequential(\n",
      "    (0): Conv2d(3, 6, kernel_size=(3, 3), stride=(1, 1), padding=(1, 1))\n",
      "    (1): BatchNorm2d(6, eps=1e-05, momentum=0.1, affine=True, track_running_stats=True)\n",
      "    (2): Conv2d(6, 10, kernel_size=(3, 3), stride=(1, 1), padding=(1, 1))\n",
      "    (3): BatchNorm2d(10, eps=1e-05, momentum=0.1, affine=True, track_running_stats=True)\n",
      "    (4): MaxPool2d(kernel_size=2, stride=1, padding=0, dilation=1, ceil_mode=False)\n",
      "    (5): Flatten(start_dim=1, end_dim=-1)\n",
      "    (6): Linear(in_features=490, out_features=256, bias=True)\n",
      "    (7): ReLU(inplace=True)\n",
      "    (8): Linear(in_features=256, out_features=128, bias=True)\n",
      "    (9): ReLU(inplace=True)\n",
      "    (10): Linear(in_features=128, out_features=62, bias=True)\n",
      "  )\n",
      ")\n",
      "0 train acc:  tensor(0.1343)\n",
      "eval acc:  0.22525857388973236\n",
      "1 train acc:  tensor(0.2571)\n",
      "eval acc:  0.2936309278011322\n",
      "2 train acc:  tensor(0.3247)\n",
      "eval acc:  0.3302122950553894\n",
      "3 train acc:  tensor(0.3727)\n",
      "eval acc:  0.36799129843711853\n",
      "4 train acc:  tensor(0.3991)\n",
      "eval acc:  0.37833425402641296\n",
      "5 train acc:  tensor(0.4304)\n",
      "eval acc:  0.3931410014629364\n",
      "6 train acc:  tensor(0.4575)\n",
      "eval acc:  0.4138268828392029\n",
      "7 train acc:  tensor(0.4729)\n",
      "eval acc:  0.40620577335357666\n",
      "8 train acc:  tensor(0.4894)\n",
      "eval acc:  0.4180729389190674\n",
      "9 train acc:  tensor(0.5071)\n",
      "eval acc:  0.4207947850227356\n"
     ]
    }
   ],
   "source": [
    "import torch.nn as nn\n",
    "import torch.nn.functional as F\n",
    "import tqdm\n",
    "\n",
    "# 定义卷积神经网络结构\n",
    "class Net(nn.Module):\n",
    "    def __init__(self):\n",
    "        super(Net, self).__init__()\n",
    "        # 输入是[8,8]\n",
    "        self.net = nn.Sequential(\n",
    "            nn.Conv2d(3, 6, kernel_size=3, stride=1, padding=1),\n",
    "            nn.BatchNorm2d(6),\n",
    "#             nn.MaxPool2d(kernel_size=2, stride=2, padding=0),\n",
    "            nn.Conv2d(6, 10, kernel_size=3, stride=1, padding=1),\n",
    "            nn.BatchNorm2d(10),\n",
    "            nn.MaxPool2d(kernel_size=2, stride=1, padding=0),\n",
    "            nn.Flatten(),\n",
    "            nn.Linear(490,256),\n",
    "            nn.ReLU(inplace=True),\n",
    "            nn.Linear(256, 128), \n",
    "            nn.ReLU(inplace=True),\n",
    "            nn.Linear(128, 62)\n",
    "        )\n",
    "\n",
    "    def forward(self, x):\n",
    "        x = self.net(x)\n",
    "        return x\n",
    "\n",
    "# create a complete CNN\n",
    "model = Net()\n",
    "print(model)\n",
    "\n",
    "\n",
    "criteon = nn.CrossEntropyLoss()\n",
    "optimizer = torch.optim.Adam(model.parameters(), lr=0.001)\n",
    "for epoch in range(10):\n",
    "    model.train()\n",
    "    correct_train = 0\n",
    "    for batch_idx, (x, target) in enumerate(train_loader):\n",
    "        logits = model(x)\n",
    "        loss = criteon(logits, target)\n",
    "        \n",
    "        optimizer.zero_grad()\n",
    "        loss.backward()\n",
    "        optimizer.step()\n",
    "    \n",
    "        correct_train += torch.eq(logits.data.max(1)[1], target.data).sum()\n",
    "        \n",
    "    print(epoch, 'train acc: ', correct_train/len(train_loader.dataset))\n",
    "    \n",
    "    # eval\n",
    "    model.eval()\n",
    "    correct = 0\n",
    "    for x, target in val_loader:\n",
    "        logits = model(x)\n",
    "        correct += torch.eq(logits.data.max(1)[1], target.data).sum()\n",
    "        \n",
    "    acc = (correct/len(val_loader.dataset)).item()\n",
    "    print('eval acc: ', acc)\n",
    "    \n",
    "torch.save(model.state_dict(), 'ckpt_10.mdl')"
   ]
  },
  {
   "cell_type": "code",
   "execution_count": 278,
   "id": "e15fe790",
   "metadata": {},
   "outputs": [
    {
     "name": "stdout",
     "output_type": "stream",
     "text": [
      "读取已经训练过10epochs的参数\n",
      "Number of parameter: 0.17M\n",
      "5\n"
     ]
    }
   ],
   "source": [
    "print('读取已经训练过10epochs的参数')\n",
    "model.load_state_dict(torch.load('ckpt_10.mdl'))\n",
    "\n",
    "total = sum([param.nelement() for param in model.parameters()])\n",
    "print(\"Number of parameter: %.2fM\" % (total/1e6))\n",
    "\n",
    "path = \"D:/python_project/learn-pytorch/bytedance_competition/char_classifier/val/5\"\n",
    "file_name_list = os.listdir(path)\n",
    "img = cv2.imread(path+'/'+file_name_list[11], cv2.IMREAD_GRAYSCALE)\n",
    "img = cv2.resize(img, [8,8]).astype(np.float32)\n",
    "img /= 255\n",
    "img =  np.broadcast_to(img,(3,)+img.shape)\n",
    "img = torch.from_numpy(img)\n",
    "img = img.unsqueeze(0)\n",
    "# print(img.shape)\n",
    "\n",
    "model.eval()\n",
    "with torch.no_grad():\n",
    "    logits = model(img)\n",
    "pred = logits.data.max(1)[1].item()\n",
    "print(pred)"
   ]
  },
  {
   "cell_type": "code",
   "execution_count": 23,
   "id": "8e423308",
   "metadata": {},
   "outputs": [],
   "source": [
    "path = \"D:/dataset_all/bytedance/ocr_data_split/data/test_random_2w/test_set_random\"\n",
    "file_name_list = os.listdir(path)\n",
    "img = cv2.imread(path+'/'+file_name_list[60], cv2.IMREAD_GRAYSCALE)\n",
    "h = len(img[0])\n",
    "w = len(img)\n",
    "\n",
    "img_high = cv2.resize(img, [3*h, 3*w])\n",
    "img_high_cubic = cv2.resize(img, [3*h, 3*w], interpolation=cv2.INTER_CUBIC)\n",
    "\n",
    "cv2.imshow('1',img)\n",
    "cv2.imshow('2',img_high)\n",
    "cv2.imshow('3',img_high_cubic)\n",
    "cv2.waitKey(0)\n",
    "cv2.destroyAllWindows()"
   ]
  },
  {
   "cell_type": "code",
   "execution_count": 51,
   "id": "64b822c5",
   "metadata": {},
   "outputs": [
    {
     "name": "stderr",
     "output_type": "stream",
     "text": [
      "C:\\Users\\CYF\\AppData\\Local\\Temp\\ipykernel_19388\\1175119757.py:4: FutureWarning: `multichannel` is a deprecated argument name for `gaussian`. It will be removed in version 1.0. Please use `channel_axis` instead.\n",
      "  gaussian_out = gaussian(new_img, sigma=2, multichannel=True)\n"
     ]
    }
   ],
   "source": [
    "# 使用高反差保留处理图片\n",
    "from skimage.filters import gaussian\n",
    "new_img = (img_high_cubic[:40] * 1.0).copy()\n",
    "gaussian_out = gaussian(new_img, sigma=2, multichannel=True)\n",
    "img_out = (new_img - gaussian_out) * 2 + new_img\n",
    "img_out = img_out / 255.0\n",
    "mask_1 = img_out < 0\n",
    "mask_2 = img_out > 1\n",
    "img_out = img_out * (1-mask_1)\n",
    "img_out = img_out * (1-mask_2) + mask_2\n",
    "ret, img_two = cv2.threshold((img_out*255.0).astype(np.uint8), 150, 255,  cv2.THRESH_BINARY)\n",
    "\n",
    "cv2.imshow('1',img_high_cubic[:40])\n",
    "cv2.imshow('2',img_out)\n",
    "cv2.imshow('3',img_two)\n",
    "cv2.waitKey(0)\n",
    "cv2.destroyAllWindows()"
   ]
  },
  {
   "cell_type": "code",
   "execution_count": 49,
   "id": "b05aeb39",
   "metadata": {
    "collapsed": true
   },
   "outputs": [
    {
     "name": "stdout",
     "output_type": "stream",
     "text": [
      "[ 69  65  38   8  19 102 206 255 207  99  19  13  50  80  76  61  50  43\n",
      "  43  78 160 252 255 244 144  59  32  46  61  58  55  64  87 113 134 136\n",
      " 126 123 125 133 163 228 255 255 255 209 141 114 113 118 121 128 124 104\n",
      "  79  57  43  42  58  88 122 182 255 255 255 255 255 255 255 255 255 255\n",
      " 255 255 255 255 255 255 186 111  70  65  63  53  54  54  56  60  62  63\n",
      "  62  52  32  11   0   0   0   0   0   0   0   0   0   0   0   0   5  21\n",
      "  36  49  58  62  53  28   1   0   0   0   0   3  32  56  68  68  60  51\n",
      "  41  24   7   0   0   0   0   0   0   0   0  12  26  38  47  51  38  11\n",
      "   0   0   0   0   0   0   0   0   0   0   0   0   0   0   0  11  26  14\n",
      "   0   0   0  13  36  43  40  33  28  17   7   0   0   0   0  23  42  40\n",
      "  26   1   0   0   0   0   0   0   0   0   0   0   4  18  28  30  32  29\n",
      "  22  20  24  29  33  34  29  27  24  22  22  26  28  30  27  24   9   0\n",
      "   0   0   0   0  10  22  22  24  27  25  26  26  26  25  21  18  17  17\n",
      "  19  22  23  24  26  27  25  25  23  21  21  24  24  27  27  25  22  21\n",
      "  16   8   0   0   0   0   0   0   0   0   7  20  22  18  12   4   0   0\n",
      "   0   0   0   0   0   0   0  12  23  25  22  20  16  14  15  15  16  16\n",
      "  16  15  15  17  17  17  15  16  16  14  14  14  15  15  15  16  14  13\n",
      "  12  12  12  14  14  14  13  13  13  13  13  13  15  15  15  13  13  13\n",
      "  14  14  14  12  12  13  13  13  13  13  13  13  13  13  13  13  13  13\n",
      "  13  13  13  13  13  13  13  13  13  13  13  13  13  13  13  13  13  13\n",
      "  13  13  13  13  13  13  12  12  12  12  12  12  12  12  12  12  12  12\n",
      "  13  13  13  13  13  13  13  13  13  13  13  13  13  13  13  12  12  12\n",
      "  10  10  10  12  12  12  12  12  12  11  11  11   9   9   9  11  11  11\n",
      "  10  10  10  13  13  13  12  12  12  12  12  13  10  10  11  11  10  10\n",
      "  12  12  12  12  12  12  11  11  11  10  10  10   8   8   8   8   8   8\n",
      "  10  10  10  10  10  10  10  10  10  10  10  10  10  10  10  10  10  10\n",
      "   9   9   9   7   7   7   7   7   7   9   9   9   9   9   9   9   9   9\n",
      "   9   9   9   9   9   9   9   9   9   9   9   9   9   9   9   9   9   9\n",
      "   9   9   9   9   9   9   9   9   9   9   9   9   9   9   9   9   9   9\n",
      "   9   9   9   7   7   7   7   7   7   7   7   7   7   7   7   7   7   7\n",
      "   7   7   7   7   7   7   7   7   7]\n"
     ]
    }
   ],
   "source": [
    "print((img_out*255).astype(np.uint8)[4])\n",
    "cv2.imshow('3',(img_out*255).astype(np.uint8))\n",
    "cv2.waitKey(0)\n",
    "cv2.destroyAllWindows()"
   ]
  },
  {
   "cell_type": "code",
   "execution_count": 54,
   "id": "365e5f7e",
   "metadata": {},
   "outputs": [
    {
     "name": "stderr",
     "output_type": "stream",
     "text": [
      "100%|████████████████████████████████████████████████████████████████████████████████████████████████████████████████████████████████████████████████████████████████| 19675/19675 [00:22<00:00, 868.24it/s]\n"
     ]
    },
    {
     "data": {
      "text/plain": [
       "<seaborn.axisgrid.FacetGrid at 0x2a2126f41c0>"
      ]
     },
     "execution_count": 54,
     "metadata": {},
     "output_type": "execute_result"
    },
    {
     "data": {
      "image/png": "[encoded data removed]",
      "text/plain": [
       "<Figure size 360x360 with 1 Axes>"
      ]
     },
     "metadata": {
      "needs_background": "light"
     },
     "output_type": "display_data"
    }
   ],
   "source": [
    "# 先只是用差值法，把测试集抠出来\n",
    "# 先看一下测试集照片尺寸的分布情况\n",
    "path = \"D:/dataset_all/bytedance/ocr_data_split/data/test_random_2w/test_set_random\"\n",
    "file_name_list = os.listdir(path)\n",
    "\n",
    "H = []\n",
    "for i in trange(len(file_name_list)):\n",
    "    img = cv2.imread(path + '/' + file_name_list[i], cv2.IMREAD_GRAYSCALE)\n",
    "    H.append(len(img))\n",
    "sns.displot(H,kde=True)"
   ]
  },
  {
   "cell_type": "code",
   "execution_count": 55,
   "id": "9595e303",
   "metadata": {},
   "outputs": [
    {
     "name": "stderr",
     "output_type": "stream",
     "text": [
      "100%|███████████████████████████████████████████████████████████████████████████████████████████████████████████████████████████████████████████████████████████████| 19675/19675 [00:12<00:00, 1540.97it/s]\n"
     ]
    },
    {
     "data": {
      "text/plain": [
       "<seaborn.axisgrid.FacetGrid at 0x2a212651f10>"
      ]
     },
     "execution_count": 55,
     "metadata": {},
     "output_type": "execute_result"
    },
    {
     "data": {
      "image/png": "[encoded data removed]",
      "text/plain": [
       "<Figure size 360x360 with 1 Axes>"
      ]
     },
     "metadata": {
      "needs_background": "light"
     },
     "output_type": "display_data"
    }
   ],
   "source": [
    "V = []\n",
    "for i in trange(len(file_name_list)):\n",
    "    img = cv2.imread(path + '/' + file_name_list[i], cv2.IMREAD_GRAYSCALE)\n",
    "    V.append(len(img[0]))\n",
    "sns.displot(V,kde=True)"
   ]
  },
  {
   "cell_type": "code",
   "execution_count": 59,
   "id": "8ca23cf3",
   "metadata": {},
   "outputs": [
    {
     "name": "stderr",
     "output_type": "stream",
     "text": [
      "100%|████████████████████████████████████████████████████████████████████████████████████████████████████████████████████████████████████████████████████████████████| 19675/19675 [01:37<00:00, 202.26it/s]\n"
     ]
    }
   ],
   "source": [
    "# 都扩大成 700 * 450的图片\n",
    "path = \"D:/dataset_all/bytedance/ocr_data_split/data/test_random_2w/test_set_random\"\n",
    "file_name_list = os.listdir(path)\n",
    "for i in trange(len(file_name_list)):\n",
    "    img = cv2.imread(path + '/' + file_name_list[i], cv2.IMREAD_GRAYSCALE)\n",
    "    h = len(img[0])\n",
    "    w = len(img)\n",
    "    if h < w:\n",
    "        img_high = cv2.resize(img, [450, 700], interpolation=cv2.INTER_CUBIC)\n",
    "    else:\n",
    "        img_high = cv2.resize(img, [700, 450], interpolation=cv2.INTER_CUBIC)\n",
    "    cv2.imwrite(\"D:/dataset_all/bytedance/ocr_data_split/data/test_random_2w/test_set_random_high/\" + file_name_list[i], img_high)"
   ]
  },
  {
   "cell_type": "code",
   "execution_count": 25,
   "id": "3e61a005",
   "metadata": {},
   "outputs": [],
   "source": [
    "import cv2\n",
    "import os\n",
    "import seaborn as sns\n",
    "from tqdm import trange\n",
    "import numpy as np"
   ]
  },
  {
   "cell_type": "code",
   "execution_count": 2,
   "id": "f68b44d3",
   "metadata": {},
   "outputs": [],
   "source": [
    "'''水平投影'''\n",
    "def getHProjection(image,flag=0):\n",
    "    hProjection = np.zeros(image.shape,np.uint8)\n",
    "    #图像高与宽\n",
    "    (h,w)=image.shape\n",
    "    #长度与图像高度一致的数组\n",
    "    h_ = [0]*h\n",
    "    #循环统计每一行白色像素的个数\n",
    "    for y in range(h):\n",
    "        for x in range(w):\n",
    "            if image[y,x] > 220:\n",
    "                h_[y]+=1\n",
    "    #绘制水平投影图像\n",
    "    for y in range(h):\n",
    "        for x in range(h_[y]):\n",
    "            hProjection[y,x] = 255\n",
    "    if flag == 1:\n",
    "        cv2.imshow('hProjection2',hProjection)\n",
    "#         cv2.waitKey(0)\n",
    "#         cv2.destroyAllWindows()\n",
    "    return h_\n",
    "\n",
    "def getVProjection(image,flag=0):\n",
    "    vProjection = np.zeros(image.shape,np.uint8);\n",
    "    #图像高与宽\n",
    "    (h,w) = image.shape\n",
    "    #长度与图像宽度一致的数组\n",
    "    w_ = [0]*w\n",
    "    #循环统计每一列白色像素的个数\n",
    "    for x in range(w):\n",
    "        for y in range(h):\n",
    "            if image[y,x] > 240:\n",
    "                w_[x]+=1\n",
    "    #绘制垂直平投影图像\n",
    "    for x in range(w):\n",
    "        for y in range(h-w_[x],h):\n",
    "            vProjection[y,x] = 255\n",
    "    if flag == 1:\n",
    "        cv2.imshow('vProjection',vProjection)\n",
    "#         cv2.waitKey(0)\n",
    "#         cv2.destroyAllWindows()\n",
    "    return w_"
   ]
  },
  {
   "cell_type": "code",
   "execution_count": 3,
   "id": "457a6bd8",
   "metadata": {},
   "outputs": [],
   "source": [
    "def split_h(image, h):\n",
    "    max_ = 0\n",
    "    start_max = 0\n",
    "    length = 0\n",
    "    # 前向\n",
    "    for i in range(len(image)):\n",
    "        if h[i] != 0:\n",
    "            length += 1\n",
    "        else:\n",
    "            if length > max_:\n",
    "                max_ = length\n",
    "                start_max = i - length\n",
    "            length = 0\n",
    "    # 错误处理\n",
    "    if start_max == 0 and max_ == 0:\n",
    "        max_ = len(h)-1\n",
    "    return start_max, start_max+max_\n",
    "\n",
    "def split_w(img, w):\n",
    "    #滑动窗口,简单前后向遍历\n",
    "    start = 0\n",
    "    end = len(w)-1\n",
    "    for i in range(len(w)):\n",
    "        if w[i] == 0:\n",
    "            pass\n",
    "        else:\n",
    "            start = i\n",
    "            break\n",
    "    for i in range(len(w)):\n",
    "        if w[len(w)-1-i] == 0:\n",
    "            pass\n",
    "        else:\n",
    "            end = len(w)-i\n",
    "            break\n",
    "    return start, end"
   ]
  },
  {
   "cell_type": "code",
   "execution_count": 5,
   "id": "c439fe46",
   "metadata": {},
   "outputs": [
    {
     "name": "stdout",
     "output_type": "stream",
     "text": [
      "test\n",
      "test\n",
      "test\n",
      "test\n",
      "test\n",
      "test\n",
      "test\n",
      "test\n",
      "test\n",
      "test\n",
      "test\n",
      "test\n",
      "test\n"
     ]
    }
   ],
   "source": [
    "# 计算model\n",
    "path = \"D:/dataset_all/bytedance/ocr_data_split/data/test_random_2w/test_set_random_high\"\n",
    "file_name_list = os.listdir(path)\n",
    "\n",
    "model = np.zeros((20,250))\n",
    "flag = 0\n",
    "\n",
    "for j in range(50):\n",
    "    img = cv2.imread(path + '/' + file_name_list[j], cv2.IMREAD_GRAYSCALE)\n",
    "\n",
    "    # cv2.imshow('1', img)\n",
    "\n",
    "    h = len(img)\n",
    "    w = len(img[0])\n",
    "\n",
    "    # 竖屏情况\n",
    "    if len(img[0]) < len(img):\n",
    "        h_top = getHProjection(img[:80])\n",
    "        h_bottom = getHProjection(img[620:])\n",
    "        # 第一步判断，判断是否有候选框在200到700之内\n",
    "        if 200 < sum(h_top) < 700:\n",
    "            if 200 < sum(h_bottom) < 700:\n",
    "                # 两个候选框都符合条件\n",
    "                # 拿方框扫一下，确定最后的位置\n",
    "                pass\n",
    "            else:\n",
    "                # 只有上部的框符合条件\n",
    "                # 直接拿到分割的两端节点\n",
    "                img = img[:80]\n",
    "                start_h, end_h = split_h(img, h_top)\n",
    "                img = img[start_h:end_h]\n",
    "                # 简单情况下下一步直接按照垂直投影抠出来\n",
    "                w_top = getVProjection(img)\n",
    "                start_w, end_w = split_w(img, w_top)\n",
    "                img = img[:,start_w:end_w]\n",
    "                flag += 1\n",
    "                img = cv2.resize(img, [250,20])\n",
    "                model += img\n",
    "        else:\n",
    "            if 200 < sum(h_bottom) < 700:\n",
    "                # 只有下部的框符合条件\n",
    "                img = img[620:]\n",
    "                start_h, end_h = split_h(img, h_bottom)\n",
    "                img = img[start_h: end_h]\n",
    "                # 简单情况下下一步直接按照垂直投影抠出来\n",
    "                w_top = getVProjection(img)\n",
    "                start_w, end_w = split_w(img, w_top)\n",
    "                img = img[:,start_w:end_w]\n",
    "                flag += 1\n",
    "                img = cv2.resize(img, [250,20])\n",
    "                model += img\n",
    "            else:\n",
    "                # 两个框都不符合条件\n",
    "                # 太白了或太黑了，拿方框扫一下\n",
    "                print('test')\n",
    "                pass\n",
    "            "
   ]
  },
  {
   "cell_type": "code",
   "execution_count": 7,
   "id": "88daa093",
   "metadata": {},
   "outputs": [],
   "source": [
    "model = (model / flag).astype(np.uint8)"
   ]
  },
  {
   "cell_type": "code",
   "execution_count": 26,
   "id": "5fef5e05",
   "metadata": {},
   "outputs": [
    {
     "name": "stderr",
     "output_type": "stream",
     "text": [
      "100%|█████████████████████████████████████████████████████████████████████████████████████████████████████████████████████████████████████████████████████████████████| 19675/19675 [49:28<00:00,  6.63it/s]\n"
     ]
    }
   ],
   "source": [
    "# 抠出来文字，先把能扣的扣了\n",
    "path = \"D:/dataset_all/bytedance/ocr_data_split/data/test_random_2w/test_set_random_high\"\n",
    "file_name_list = os.listdir(path)\n",
    "\n",
    "for j in trange(len(file_name_list)):\n",
    "    img = cv2.imread(path + '/' + file_name_list[j], cv2.IMREAD_GRAYSCALE)\n",
    "\n",
    "    # cv2.imshow('1', img)\n",
    "    h = len(img)\n",
    "    w = len(img[0])\n",
    "\n",
    "    # 竖屏情况\n",
    "    if len(img[0]) < len(img):\n",
    "        h_top = getHProjection(img[:80])\n",
    "        h_bottom = getHProjection(img[620:])\n",
    "        # 第一步判断，判断是否有候选框在200到700之内\n",
    "        if 200 < sum(h_top) < 700:\n",
    "            if 200 < sum(h_bottom) < 700:\n",
    "                # 两个候选框都符合条件\n",
    "                # 拿方框扫一下，确定最后的位置\n",
    "                continue\n",
    "            else:\n",
    "                # 只有上部的框符合条件\n",
    "                # 直接拿到分割的两端节点\n",
    "                img = img[:80]\n",
    "                start_h, end_h = split_h(img, h_top)\n",
    "                img = img[start_h:end_h]\n",
    "                # 简单情况下下一步直接按照垂直投影抠出来\n",
    "                w_top = getVProjection(img)\n",
    "                start_w, end_w = split_w(img, w_top)\n",
    "                img = img[:,start_w:end_w]\n",
    "        else:\n",
    "            if 200 < sum(h_bottom) < 700:\n",
    "                # 只有下部的框符合条件\n",
    "                img = img[620:]\n",
    "                start_h, end_h = split_h(img, h_bottom)\n",
    "                img = img[start_h: end_h]\n",
    "                # 简单情况下下一步直接按照垂直投影抠出来\n",
    "                w_top = getVProjection(img)\n",
    "                start_w, end_w = split_w(img, w_top)\n",
    "                img = img[:,start_w:end_w]\n",
    "            else:\n",
    "                # 两个框都不符合条件\n",
    "                # 太白了或太黑了，拿方框扫一下\n",
    "                continue\n",
    "        cv2.imwrite(\"D:/dataset_all/bytedance/ocr_data_split/data/test_random_2w/test_set_random_high_split/\" + file_name_list[j], img)\n",
    "            \n",
    "# print(len(img))\n",
    "# print(len(img[0]))\n",
    "# cv2.imshow('5',img)\n",
    "# cv2.waitKey(0)\n",
    "# cv2.destroyAllWindows()\n",
    "#     cv2.imwrite('split_images_4w/'+sub_list[i], img)"
   ]
  },
  {
   "cell_type": "code",
   "execution_count": 21,
   "id": "3aec29fc",
   "metadata": {},
   "outputs": [],
   "source": [
    "# 80*450 的图片上寻找合适的框，用20*250的框寻找吧\n",
    "# top和bottom都需要用\n",
    "# 两种思路（1.垂直投影和水平投影都最像。2.直接一阶距离最近）\n",
    "\n",
    "# 距离最近\n",
    "img_top = img[:80]\n",
    "img_bottom = img[620:]\n",
    "distance = np.zeros((40, 12))\n",
    "\n",
    "for i in range(40):\n",
    "    for j in range(12):\n",
    "        candidate = img_bottom[5*j:20+5*j, 5*i:250+5*i]\n",
    "        distance[i,j] = sum(sum(abs(candidate-model)))\n",
    "# print(sum(sum(abs(img_top[:20]-model))))"
   ]
  },
  {
   "cell_type": "code",
   "execution_count": 23,
   "id": "b0e3ab0f",
   "metadata": {
    "collapsed": true
   },
   "outputs": [
    {
     "name": "stdout",
     "output_type": "stream",
     "text": [
      "(19, 1)\n",
      "[[32426. 32975. 31351. 32086. 31408. 30046. 31071. 31976. 32644. 32712.\n",
      "  33641. 34713.]\n",
      " [30937. 32914. 31997. 31069. 31274. 29879. 30511. 32858. 32183. 33144.\n",
      "  33961. 32284.]\n",
      " [30572. 31733. 33152. 31364. 31284. 33105. 33344. 32499. 32279. 32364.\n",
      "  33226. 30137.]\n",
      " [29894. 30767. 31092. 33787. 32636. 31821. 31121. 31636. 32657. 31907.\n",
      "  32255. 31828.]\n",
      " [30355. 32263. 31797. 32181. 31905. 32273. 34140. 32314. 32585. 30018.\n",
      "  31743. 30676.]\n",
      " [30579. 32436. 33007. 32337. 32835. 32353. 33115. 30569. 34071. 30948.\n",
      "  30167. 31034.]\n",
      " [32394. 34009. 32111. 33118. 30722. 30805. 29422. 33111. 30496. 29249.\n",
      "  30311. 32233.]\n",
      " [32268. 33746. 30547. 33197. 30876. 30205. 29685. 30745. 32356. 31623.\n",
      "  31514. 32068.]\n",
      " [32289. 32815. 34396. 33162. 32885. 31604. 30177. 31568. 30156. 30845.\n",
      "  33154. 33216.]\n",
      " [31939. 33809. 32244. 32073. 32586. 30872. 31146. 32447. 29372. 31066.\n",
      "  32014. 31883.]\n",
      " [30369. 31845. 32706. 33360. 32845. 32577. 31275. 31904. 32508. 32906.\n",
      "  32125. 32064.]\n",
      " [31364. 31411. 31960. 33124. 31468. 30438. 32455. 32380. 32594. 29811.\n",
      "  29596. 32220.]\n",
      " [31548. 33052. 31195. 31376. 29587. 32887. 33725. 32202. 30771. 30491.\n",
      "  31667. 31321.]\n",
      " [32379. 33932. 32615. 32049. 34249. 31609. 33595. 29737. 29227. 32749.\n",
      "  31626. 30726.]\n",
      " [34546. 33259. 33280. 33210. 33423. 31665. 31227. 32547. 33405. 31830.\n",
      "  31320. 31968.]\n",
      " [31518. 30660. 33075. 33390. 31202. 31918. 29840. 33289. 32308. 31879.\n",
      "  32162. 31626.]\n",
      " [31424. 30802. 33167. 33356. 32680. 31586. 33850. 32427. 32024. 33269.\n",
      "  32987. 32962.]\n",
      " [31674. 31145. 32448. 31445. 31426. 32517. 33106. 31359. 31390. 30687.\n",
      "  30024. 31175.]\n",
      " [32412. 31689. 30188. 30058. 30932. 31000. 32685. 32961. 31048. 30778.\n",
      "  30545. 31934.]\n",
      " [31336. 29046. 31175. 31715. 31753. 33135. 33011. 33236. 31390. 33148.\n",
      "  32010. 30945.]\n",
      " [29682. 31550. 32096. 32097. 32697. 34160. 31230. 31945. 31367. 30720.\n",
      "  30672. 29572.]\n",
      " [31832. 32497. 31240. 32407. 33831. 34581. 31795. 30595. 31415. 31170.\n",
      "  30761. 31929.]\n",
      " [31377. 32870. 32840. 33165. 30077. 31737. 31090. 30817. 31744. 31398.\n",
      "  31701. 32436.]\n",
      " [30788. 30085. 31851. 32222. 31702. 31378. 34160. 31679. 31843. 31199.\n",
      "  29692. 31354.]\n",
      " [32023. 31125. 30517. 31096. 30129. 31140. 32863. 30957. 32270. 33856.\n",
      "  30749. 29959.]\n",
      " [30854. 30634. 30653. 29287. 31229. 33298. 31750. 31097. 34084. 32332.\n",
      "  32094. 32861.]\n",
      " [30389. 31389. 33109. 31616. 34402. 31973. 31620. 33481. 30702. 32521.\n",
      "  31848. 31022.]\n",
      " [30690. 32034. 32527. 32107. 32105. 31763. 32648. 33612. 30333. 33179.\n",
      "  32792. 30128.]\n",
      " [33238. 31586. 33651. 33830. 32938. 29981. 32930. 33097. 30389. 30745.\n",
      "  32233. 32500.]\n",
      " [32926. 30027. 31854. 32146. 31422. 33768. 33466. 32244. 30993. 33462.\n",
      "  33139. 32833.]\n",
      " [30855. 34308. 32484. 32088. 31812. 30806. 32990. 30362. 31803. 31544.\n",
      "  33238. 30948.]\n",
      " [30431. 31169. 31873. 30643. 31372. 31310. 31432. 29481. 31867. 31293.\n",
      "  29190. 30857.]\n",
      " [31087. 33608. 33234. 31481. 31716. 31336. 32657. 32426. 32876. 32545.\n",
      "  31965. 32282.]\n",
      " [32347. 34501. 31582. 32155. 31902. 32645. 34062. 32722. 32376. 30636.\n",
      "  30867. 32164.]\n",
      " [32163. 33406. 32486. 32318. 33357. 33362. 32052. 31127. 30996. 31049.\n",
      "  30585. 30672.]\n",
      " [34022. 31558. 31747. 32151. 32264. 32592. 31715. 30685. 30211. 31053.\n",
      "  32470. 32297.]\n",
      " [33759. 33234. 31173. 31125. 31232. 32589. 31028. 33555. 32946. 30951.\n",
      "  31622. 32616.]\n",
      " [30867. 29916. 31100. 32387. 32777. 33356. 32588. 30974. 30846. 30716.\n",
      "  30478. 30844.]\n",
      " [32816. 32680. 31555. 32084. 32225. 32272. 33311. 31452. 32892. 30786.\n",
      "  31389. 34379.]\n",
      " [32395. 32291. 31855. 33582. 32681. 32181. 31593. 31959. 31214. 32285.\n",
      "  31993. 31700.]]\n"
     ]
    }
   ],
   "source": [
    "print(np.unravel_index(distance.argmin(), distance.shape))\n",
    "print(distance)"
   ]
  },
  {
   "cell_type": "code",
   "execution_count": 47,
   "id": "84d625b0",
   "metadata": {},
   "outputs": [],
   "source": [
    "model = (model/flag).astype(np.uint8)\n",
    "cv2.imshow('1',model)\n",
    "cv2.waitKey(0)\n",
    "cv2.destroyAllWindows()"
   ]
  },
  {
   "cell_type": "code",
   "execution_count": 42,
   "id": "acbe02f9",
   "metadata": {},
   "outputs": [],
   "source": [
    "import random\n",
    "import shutil"
   ]
  },
  {
   "cell_type": "code",
   "execution_count": 54,
   "id": "29371ad3",
   "metadata": {},
   "outputs": [],
   "source": [
    "file_path = \"D:/dataset_all/bytedance/ocr_data_split/data/test_random_2w/gt.txt\"\n",
    "file_path_list = os.listdir(\"D:/dataset_all/bytedance/ocr_data_split/data/test_random_2w/test_set_random_high_split\")\n",
    "with open(file_path,'w') as file:\n",
    "    for i in range(len(file_path_list)):\n",
    "        file.write('test/'+file_path_list[i]+'\\t@#&:0'+str(i)+'\\n')"
   ]
  },
  {
   "cell_type": "code",
   "execution_count": 48,
   "id": "7f089df2",
   "metadata": {},
   "outputs": [],
   "source": [
    "file_path = \"D:/github/deep-text-recognition-benchmark/data/train\"\n",
    "file_name_path = os.listdir(file_path)\n",
    "file_sub = random.sample(file_name_path, int(len(file_name_path)*0.3))\n",
    "for i in range(len(file_sub)):\n",
    "    shutil.move(file_path+'/'+file_sub[i], \"D:/github/deep-text-recognition-benchmark/data/val/\"+file_sub[i])"
   ]
  },
  {
   "cell_type": "code",
   "execution_count": 53,
   "id": "671e034c",
   "metadata": {},
   "outputs": [
    {
     "name": "stdout",
     "output_type": "stream",
     "text": [
      "wqoo2o22\n"
     ]
    }
   ],
   "source": [
    "a = 'wqoo2o22.jpg'\n",
    "print(a.split('.')[0])"
   ]
  },
  {
   "cell_type": "code",
   "execution_count": 26,
   "id": "0de73b1c",
   "metadata": {},
   "outputs": [
    {
     "name": "stderr",
     "output_type": "stream",
     "text": [
      "100%|█████████████████████████████████████████████████████████████████████████████████████████████████████████████████████████████████████████████████████████████████| 19675/19675 [23:45<00:00, 13.81it/s]\n"
     ]
    }
   ],
   "source": [
    "# 结果对应\n",
    "import csv\n",
    "import numpy as np\n",
    "from tqdm import trange\n",
    "path1 = \"D:/dataset_all/bytedance/ocr_data_split/data/test_random_2w/result_test.txt\"\n",
    "path2 = \"D:/dataset_all/bytedance/ocr_data_split/data/test_random_2w/gt.txt\"\n",
    "with open(path1, 'r') as file:\n",
    "    data = [row for row in file]\n",
    "label = []\n",
    "pred = []\n",
    "for i in range(len(data)):\n",
    "    label.append(data[i].split('\\t')[0])\n",
    "    tmp = data[i].split('\\t')[1].split('\\n')[0]\n",
    "    if len(tmp) > 4:\n",
    "        pred.append(tmp[4:])\n",
    "    else:\n",
    "        pred.append(tmp)\n",
    "\n",
    "img = []\n",
    "label2 = []\n",
    "with open(path2, 'r') as file:\n",
    "    data = [row for row in file]\n",
    "for i in range(len(data)):\n",
    "    img.append(data[i].split('\\t')[0].split('/')[1])\n",
    "    label2.append(data[i].split('\\t')[1].split('\\n')[0])\n",
    "    \n",
    "\n",
    "file_data = []\n",
    "file = \"D:/dataset_all/bytedance/ocr_data_split/data/submit_sample.csv\"\n",
    "with open(file,'r') as csvfile:\n",
    "    reader = csv.reader(csvfile)\n",
    "    for row in reader:\n",
    "        file_data.append(row)\n",
    "file_data = np.array(file_data)\n",
    "file_data = file_data[1:]\n",
    "\n",
    "for i in trange(len(file_data)):\n",
    "    for j in range(len(img)):\n",
    "        if file_data[i,0] == img[j]:\n",
    "            for k in range(len(label)):\n",
    "                if label2[j] == label[k]:\n",
    "                    file_data[i,1] = pred[k]\n",
    "    "
   ]
  },
  {
   "cell_type": "code",
   "execution_count": 27,
   "id": "1dc3e8a9",
   "metadata": {},
   "outputs": [],
   "source": [
    "with open('./result.csv','w',newline='') as csvfile:\n",
    "    writer = csv.writer(csvfile)\n",
    "    for row in file_data:\n",
    "        writer.writerow(row)"
   ]
  },
  {
   "cell_type": "code",
   "execution_count": 25,
   "id": "8c715614",
   "metadata": {},
   "outputs": [
    {
     "name": "stderr",
     "output_type": "stream",
     "text": [
      "100%|████████████████████████████████████████████████████████████████████████████████████████████████████████████████████████████████████████████████████████████| 19675/19675 [00:00<00:00, 1005763.94it/s]\n"
     ]
    }
   ],
   "source": [
    "# 临时处理gt.txt\n",
    "path2 = \"D:/dataset_all/bytedance/ocr_data_split/data/test_random_2w/gt.txt\"\n",
    "with open(path2, 'r') as file:\n",
    "    data = [row for row in file]\n",
    "for i in trange(len(data)):\n",
    "    data[i] = data[i].split('\\t')[0].split('.')[0] + '.jpg' + '\\t' + data[i].split('\\t')[1]\n",
    "with open(path2, 'w') as file:\n",
    "    for i in range(len(data)):\n",
    "        file.write(data[i])"
   ]
  },
  {
   "cell_type": "code",
   "execution_count": 39,
   "id": "8b8a104e",
   "metadata": {},
   "outputs": [],
   "source": [
    "import cv2\n",
    "import os\n",
    "import skimage\n",
    "\n",
    "path = \"D:/dataset_all/bytedance/ocr_data_split/data/test_random_2w/test_set_random_high_split\"\n",
    "file_name_list = os.listdir(path)\n",
    "img = cv2.imread(path + '/' + file_name_list[10], cv2.IMREAD_GRAYSCALE)\n",
    "img_2 = cv2.imread(path + '/' + file_name_list[10], cv2.IMREAD_GRAYSCALE)\n",
    "img_3 = cv2.imread(path + '/' + file_name_list[10], cv2.IMREAD_GRAYSCALE)\n",
    "img_4 = cv2.imread(path + '/' + file_name_list[10], cv2.IMREAD_GRAYSCALE)\n",
    "cv2.imshow('1', img)\n",
    "\n",
    "# 使用双边过滤器\n",
    "img_2 = skimage.restoration.denoise_bilateral(img_2, win_size=2, sigma_spatial=2, bins=50000)\n",
    "cv2.imshow('2', img_2)\n",
    "\n",
    "# denoise_tv_bregman\n",
    "img_3 = skimage.restoration.denoise_tv_bregman(img_3, weight=10.0, eps=1e-3)\n",
    "cv2.imshow('3', img_3)\n",
    "\n",
    "# denoise_tv_chambolle\n",
    "img_4 = skimage.restoration.denoise_tv_chambolle(img_4, weight=0.01)\n",
    "cv2.imshow('4', img_4)\n",
    "\n",
    "cv2.waitKey(0)\n",
    "cv2.destroyAllWindows()"
   ]
  },
  {
   "cell_type": "markdown",
   "id": "a6417280",
   "metadata": {},
   "source": [
    "## 重新尝试切分测试集"
   ]
  },
  {
   "cell_type": "code",
   "execution_count": 2,
   "id": "baa4cc77",
   "metadata": {},
   "outputs": [],
   "source": [
    "import cv2\n",
    "import os\n",
    "import skimage\n",
    "import numpy as np\n",
    "import skimage\n",
    "from tqdm import trange"
   ]
  },
  {
   "cell_type": "code",
   "execution_count": 2,
   "id": "f2e8ca03",
   "metadata": {},
   "outputs": [],
   "source": [
    "path = \"D:/dataset_all/bytedance/ocr_data_split/data/train_random_8w/train_set_random/\""
   ]
  },
  {
   "cell_type": "code",
   "execution_count": 4,
   "id": "5ee0060b",
   "metadata": {},
   "outputs": [],
   "source": [
    "file_name_list = os.listdir(path)\n",
    "img = cv2.imread(path + '/' + file_name_list[200], cv2.IMREAD_GRAYSCALE)\n",
    "\n",
    "cv2.imshow('1', img)\n",
    "cv2.waitKey(0)\n",
    "cv2.destroyAllWindows()"
   ]
  },
  {
   "cell_type": "code",
   "execution_count": 3,
   "id": "401023d1",
   "metadata": {},
   "outputs": [],
   "source": [
    "def set_max(array):\n",
    "    for i in range(len(array)):\n",
    "        for j in range(len(array[0])):\n",
    "            if array[i,j] > 255:\n",
    "                array[i,j] = 255\n",
    "    return array"
   ]
  },
  {
   "cell_type": "markdown",
   "id": "e46692cd",
   "metadata": {},
   "source": [
    "## 宽高比 1:1.8      将测试集宽高设置为400 * 720"
   ]
  },
  {
   "cell_type": "code",
   "execution_count": 8,
   "id": "a19b9004",
   "metadata": {},
   "outputs": [],
   "source": [
    "# # 用的第203张图片做的模板\n",
    "template = img_bottom[-33:-15,8:65]\n",
    "# cv2.imshow('2', template)\n",
    "# cv2.waitKey(0)\n",
    "# cv2.destroyAllWindows()\n",
    "\n",
    "# 训练集用第200张做模板\n",
    "# template = img[-60:-45,-187:-135]"
   ]
  },
  {
   "cell_type": "code",
   "execution_count": 4,
   "id": "0396e5c1",
   "metadata": {},
   "outputs": [],
   "source": [
    "# 改成自适应的垂直投影\n",
    "def getVProjection(image, threshold=255, flag=0):\n",
    "    if threshold >= 255:\n",
    "        threshold = 250\n",
    "    vProjection = np.zeros(image.shape,np.uint8);\n",
    "    #图像高与宽\n",
    "    (h,w) = image.shape\n",
    "    #长度与图像宽度一致的数组\n",
    "    w_ = [0]*w\n",
    "    #循环统计每一列白色像素的个数\n",
    "    for x in range(w):\n",
    "        for y in range(h):\n",
    "            if image[y,x] > threshold:\n",
    "                w_[x]+=1\n",
    "    #绘制垂直平投影图像\n",
    "    for x in range(w):\n",
    "        for y in range(h-w_[x],h):\n",
    "            vProjection[y,x] = 255\n",
    "    if flag == 1:\n",
    "        cv2.imshow('vProjection',vProjection)\n",
    "    return w_"
   ]
  },
  {
   "cell_type": "code",
   "execution_count": 5,
   "id": "d8899279",
   "metadata": {},
   "outputs": [],
   "source": [
    "# 垂直投影用230阈值处理加两个像素，从右向左遍历找到第一个连续超过2的区间\n",
    "def get_right_bound(split_w):\n",
    "    flag = 0\n",
    "    length = len(split_w)\n",
    "    bound = length - 1\n",
    "    for i in range(length):\n",
    "        # 已经有一个了\n",
    "        if flag == 1:\n",
    "            if split_w[length - i - 1] != 0:\n",
    "                bound = length - i + 3\n",
    "                break\n",
    "            else:\n",
    "                flag = 0\n",
    "        else:\n",
    "            if split_w[length - i - 1] != 0:\n",
    "                flag = 1\n",
    "    return bound"
   ]
  },
  {
   "cell_type": "code",
   "execution_count": 7,
   "id": "8349c70b",
   "metadata": {},
   "outputs": [],
   "source": [
    "file_name_list = os.listdir(path)\n",
    "img = cv2.imread(path + '/' + file_name_list[203], cv2.IMREAD_GRAYSCALE)\n",
    "\n",
    "# 先只处理竖屏图片\n",
    "if len(img)/len(img[0]) > 1.5:\n",
    "    img_high = cv2.resize(img, [400, 720], interpolation=cv2.INTER_CUBIC)\n",
    "    img_high_restoration = skimage.restoration.denoise_tv_chambolle(img_high, weight=0.0001)\n",
    "    img_bottom = (img_high_restoration[-70:] * 255.0).astype(np.uint8)\n",
    "    img_top = (img_high_restoration[:70] * 255.0).astype(np.uint8)\n",
    "    \n",
    "    # 增加曝光试试，让所有的像素都变白\n",
    "    img_top = set_max(img_top * 1.1).astype(np.uint8)\n",
    "    img_bottom = set_max(img_bottom * 1.1).astype(np.uint8)\n",
    "\n",
    "    cv2.imshow('1', img_top)\n",
    "    cv2.imshow('2', img_bottom)\n",
    "    cv2.waitKey(0)\n",
    "    cv2.destroyAllWindows()\n",
    "else:\n",
    "    print('error')"
   ]
  },
  {
   "cell_type": "code",
   "execution_count": 307,
   "id": "c73cb8ce",
   "metadata": {},
   "outputs": [],
   "source": [
    "h, w = template.shape[:2]\n",
    "\n",
    "# 处理top部分\n",
    "ret = cv2.matchTemplate(img_top, template, cv2.TM_CCOEFF_NORMED)\n",
    "min_val, max_val, min_loc, max_loc = cv2.minMaxLoc(ret)\n",
    "\n",
    "# 处理bottom部分\n",
    "ret_b = cv2.matchTemplate(img_bottom, template, cv2.TM_CCOEFF_NORMED)\n",
    "min_val_b, max_val_b, min_loc_b, max_loc_b = cv2.minMaxLoc(ret_b)\n",
    "\n",
    "if max_val > max_val_b:\n",
    "    draw_img = img_top.copy()\n",
    "    ret = cv2.rectangle(draw_img, max_loc, (max_loc[0]+w, max_loc[1]+h), (80, 80, 80), 1)\n",
    "else:\n",
    "    draw_img = img_bottom.copy()\n",
    "    ret = cv2.rectangle(draw_img, max_loc_b, (max_loc_b[0]+w, max_loc_b[1]+h), (80, 80, 80), 1)\n",
    "\n",
    "cv2.imshow('ret', ret)\n",
    "cv2.waitKey(0)\n",
    "cv2.destroyAllWindows()"
   ]
  },
  {
   "cell_type": "code",
   "execution_count": 308,
   "id": "f0cc014f",
   "metadata": {},
   "outputs": [],
   "source": [
    "if max_val > max_val_b:\n",
    "    img_next = img_top[max_loc[1]:max_loc[1] + h, max_loc[0]:]\n",
    "else:\n",
    "    img_next = img_bottom[max_loc_b[1]:max_loc_b[1] + h, max_loc_b[0]:]\n",
    "\n",
    "cv2.imshow('ret', img_next)\n",
    "cv2.waitKey(0)\n",
    "cv2.destroyAllWindows()"
   ]
  },
  {
   "cell_type": "code",
   "execution_count": 309,
   "id": "5293a295",
   "metadata": {},
   "outputs": [],
   "source": [
    "# 还是用垂直投影解决吧\n",
    "split_w = getVProjection(img_next, 1)\n",
    "cv2.imshow('ret', img_next)\n",
    "img_final = img_next[:,:get_right_bound(split_w)]\n",
    "cv2.imshow('final', img_final)\n",
    "\n",
    "cv2.waitKey(0)\n",
    "cv2.destroyAllWindows()"
   ]
  },
  {
   "cell_type": "markdown",
   "id": "c12f2458",
   "metadata": {},
   "source": [
    "## 写一个完整的扣测试集的脚本"
   ]
  },
  {
   "cell_type": "code",
   "execution_count": 19,
   "id": "1bd349d1",
   "metadata": {},
   "outputs": [
    {
     "name": "stderr",
     "output_type": "stream",
     "text": [
      "100%|███████████████████████████████████████████████████████████████████████████████████████████████████████████████████████████████████████████████████████████████| 78699/78699 [1:48:52<00:00, 12.05it/s]\n"
     ]
    }
   ],
   "source": [
    "# path = \"D:/dataset_all/bytedance/ocr_data_split/data/test_random_2w/test_set_random\"\n",
    "path = \"D:/dataset_all/bytedance/ocr_data_split/data/train_random_8w/train_set_random\"\n",
    "file_name_list = os.listdir(path)\n",
    "for k in trange(len(file_name_list)):\n",
    "    img = cv2.imread(path + '/' + file_name_list[k], cv2.IMREAD_GRAYSCALE)\n",
    "\n",
    "    # 先只处理竖屏图片\n",
    "    if len(img)/len(img[0]) > 1.5:\n",
    "        img_high = cv2.resize(img, [400, 720], interpolation=cv2.INTER_CUBIC)\n",
    "        img_high_restoration = skimage.restoration.denoise_tv_chambolle(img_high, weight=0.0001)\n",
    "        img_bottom = (img_high_restoration[-70:] * 255.0).astype(np.uint8)\n",
    "        img_top = (img_high_restoration[:70] * 255.0).astype(np.uint8)\n",
    "\n",
    "    # 处理横屏图片\n",
    "    elif len(img[0])/len(img) > 1.5:\n",
    "        img_high = cv2.resize(img, [720, 400], interpolation=cv2.INTER_CUBIC)\n",
    "        img_high_restoration = skimage.restoration.denoise_tv_chambolle(img_high, weight=0.0001)\n",
    "        img_bottom = (img_high_restoration[-50:] * 255.0).astype(np.uint8)\n",
    "        img_top = (img_high_restoration[:50] * 255.0).astype(np.uint8)\n",
    "\n",
    "    # 处理方形图片\n",
    "    else:\n",
    "        img_high = cv2.resize(img, [600, 600], interpolation=cv2.INTER_CUBIC)\n",
    "        img_high_restoration = skimage.restoration.denoise_tv_chambolle(img_high, weight=0.0001)\n",
    "        img_bottom = (img_high_restoration[-70:] * 255.0).astype(np.uint8)\n",
    "        img_top = (img_high_restoration[:70] * 255.0).astype(np.uint8)\n",
    "\n",
    "\n",
    "    # 增加曝光试试，让所有的像素都变白\n",
    "    img_top = set_max(img_top * 1.1).astype(np.uint8)\n",
    "    img_bottom = set_max(img_bottom * 1.1).astype(np.uint8)\n",
    "\n",
    "    # 模板匹配\n",
    "    h, w = template.shape[:2]\n",
    "\n",
    "    # 处理top部分\n",
    "    ret = cv2.matchTemplate(img_top, template, cv2.TM_CCOEFF_NORMED)\n",
    "    min_val, max_val, min_loc, max_loc = cv2.minMaxLoc(ret)\n",
    "\n",
    "    # 处理bottom部分\n",
    "    ret_b = cv2.matchTemplate(img_bottom, template, cv2.TM_CCOEFF_NORMED)\n",
    "    min_val_b, max_val_b, min_loc_b, max_loc_b = cv2.minMaxLoc(ret_b)\n",
    "\n",
    "    if max_val > max_val_b:\n",
    "        draw_img = img_top.copy()\n",
    "        ret = cv2.rectangle(draw_img, max_loc, (max_loc[0]+w, max_loc[1]+h), (80, 80, 80), 1)\n",
    "    else:\n",
    "        draw_img = img_bottom.copy()\n",
    "        ret = cv2.rectangle(draw_img, max_loc_b, (max_loc_b[0]+w, max_loc_b[1]+h), (80, 80, 80), 1)\n",
    "\n",
    "    # 取得倒数第二步结果    \n",
    "    if max_val > max_val_b:\n",
    "        img_next = img_top[max_loc[1]:max_loc[1] + h, max_loc[0]:]\n",
    "    else:\n",
    "        img_next = img_bottom[max_loc_b[1]:max_loc_b[1] + h, max_loc_b[0]:]\n",
    "\n",
    "    # 垂直投影\n",
    "    split_w = getVProjection(img_next)\n",
    "    img_final = img_next[:,:get_right_bound(split_w)]\n",
    "    \n",
    "    # 保存图片\n",
    "    cv2.imwrite(\"D:/dataset_all/bytedance/ocr_data_split/data/train_random_8w/train_set_final/\" + file_name_list[k], img_final)"
   ]
  },
  {
   "cell_type": "markdown",
   "id": "782748c9",
   "metadata": {},
   "source": [
    "## 处理训练集图片"
   ]
  },
  {
   "cell_type": "code",
   "execution_count": 28,
   "id": "6cc844fb",
   "metadata": {},
   "outputs": [],
   "source": [
    "import os\n",
    "import csv\n",
    "path = \"D:/dataset_all/bytedance/ocr_data_split/data/train_random_8w/train_set_final\""
   ]
  },
  {
   "cell_type": "code",
   "execution_count": 21,
   "id": "122ec1e0",
   "metadata": {},
   "outputs": [],
   "source": [
    "file_name_list = os.listdir(path)\n",
    "img = cv2.imread(path + '/' + file_name_list[0], cv2.IMREAD_GRAYSCALE)\n",
    "\n",
    "cv2.imshow('2', img)\n",
    "cv2.waitKey(0)\n",
    "cv2.destroyAllWindows()"
   ]
  },
  {
   "cell_type": "code",
   "execution_count": 30,
   "id": "de92e3bb",
   "metadata": {},
   "outputs": [
    {
     "name": "stderr",
     "output_type": "stream",
     "text": [
      "100%|████████████████████████████████████████████████████████████████████████████████████████████████████████████████████████████████████████████████████████████████| 58028/58028 [05:30<00:00, 175.68it/s]\n"
     ]
    }
   ],
   "source": [
    "# 宽高比大于16或小于8的都删除     8w条删除了2w条\n",
    "filepath = \"D:/dataset_all/bytedance/ocr_data_split/data/dataset_train_random.csv\"\n",
    "\n",
    "path = \"D:/dataset_all/bytedance/ocr_data_split/data/train_random_8w/train_set_final\"\n",
    "file_name_list = os.listdir(path)\n",
    "\n",
    "with open(filepath, 'r') as csvfile:\n",
    "    reader = csv.reader(csvfile)\n",
    "    data = [row for row in reader]\n",
    "\n",
    "for i in trange(len(file_name_list)):\n",
    "    img = cv2.imread(path + '/' + file_name_list[i], cv2.IMREAD_GRAYSCALE)\n",
    "    h = len(img)\n",
    "    w = len(img[0])\n",
    "    if 8 < w/h < 16:\n",
    "        for j in range(len(data)):\n",
    "            if data[j][0] == file_name_list[i]:\n",
    "                os.rename(path + '/' + file_name_list[i], path + '/' + data[j][1] + '.jpg')\n",
    "                break\n",
    "    else:\n",
    "        os.unlink(path + '/' + file_name_list[i])"
   ]
  },
  {
   "cell_type": "code",
   "execution_count": null,
   "id": "66ec04af",
   "metadata": {},
   "outputs": [],
   "source": [
    "# # 对文件按照标签改名\n",
    "# filepath = \"D:/dataset_all/bytedance/ocr_data_split/data/dataset_train_random.csv\"\n",
    "# with open(filepath, 'r') as csvfile:\n",
    "#     reader = csv.reader(csvfile)\n",
    "#     data = [row for row in reader]\n",
    "\n",
    "# file_name_list = os.listdir(\"D:/python_project/learn-pytorch/bytedance_competition/split_images_4w\")\n",
    "# for j in trange(len(file_name_list)):\n",
    "#     for i in range(len(data)):\n",
    "#         if data[i][0] == file_name_list[j]:\n",
    "#             os.rename(\"D:/python_project/learn-pytorch/bytedance_competition/split_images_4w/\" + file_name_list[j], \"D:/python_project/learn-pytorch/bytedance_competition/split_images_4w/\" + data[i][1] + '.jpg')\n",
    "#             break"
   ]
  },
  {
   "cell_type": "markdown",
   "id": "046467c7",
   "metadata": {},
   "source": [
    "## 对训练集(不包括验证集)进行模糊处理以增强模型的鲁棒性"
   ]
  },
  {
   "cell_type": "code",
   "execution_count": 40,
   "id": "7afaae58",
   "metadata": {},
   "outputs": [],
   "source": [
    "path = \"D:/dataset_all/bytedance/ocr_data_split/data/train_random_8w/train_set_final\"\n",
    "file_name_list = os.listdir(path)\n",
    "\n",
    "img = cv2.imread(path + '/' + file_name_list[4], cv2.IMREAD_GRAYSCALE)\n",
    "h = len(img)\n",
    "w = len(img[0])\n",
    "\n",
    "img_low = cv2.resize(img, [int(0.5*w), int(0.5*h)])\n",
    "img_low_high = cv2.resize(img_low, [w, h])\n",
    "\n",
    "img_gaussian = cv2.GaussianBlur(img, [3,3], 0)\n",
    "\n",
    "cv2.imshow('1', img)\n",
    "cv2.imshow('2', img_low_high)\n",
    "cv2.imshow('3', img_gaussian)\n",
    "cv2.waitKey(0)\n",
    "cv2.destroyAllWindows()"
   ]
  },
  {
   "cell_type": "markdown",
   "id": "bf18556b",
   "metadata": {},
   "source": [
    "## 进一步修改测试集抠图"
   ]
  },
  {
   "cell_type": "code",
   "execution_count": 252,
   "id": "109c77b2",
   "metadata": {},
   "outputs": [],
   "source": [
    "current = 214"
   ]
  },
  {
   "cell_type": "code",
   "execution_count": 9,
   "id": "36e6a505",
   "metadata": {},
   "outputs": [
    {
     "name": "stderr",
     "output_type": "stream",
     "text": [
      "100%|█████████████████████████████████████████████████████████████████████████████████████████████████████████████████████████████████████████████████████████████████| 19675/19675 [29:15<00:00, 11.21it/s]\n"
     ]
    }
   ],
   "source": [
    "path = \"D:/dataset_all/bytedance/ocr_data_split/data/test_random_2w/test_set_random\"\n",
    "# path = \"D:/dataset_all/bytedance/ocr_data_split/data/train_random_8w/train_set_random\"\n",
    "file_name_list = os.listdir(path)\n",
    "for k in trange(len(file_name_list)):\n",
    "    img = cv2.imread(path + '/' + file_name_list[k], cv2.IMREAD_GRAYSCALE)\n",
    "\n",
    "    # 先只处理竖屏图片\n",
    "    if len(img)/len(img[0]) > 1.5:\n",
    "        img_high = cv2.resize(img, [400, 720], interpolation=cv2.INTER_CUBIC)\n",
    "        img_high_restoration = skimage.restoration.denoise_tv_chambolle(img_high, weight=0.0001)\n",
    "        img_bottom = (img_high_restoration[-70:] * 255.0).astype(np.uint8)\n",
    "        img_top = (img_high_restoration[:70] * 255.0).astype(np.uint8)\n",
    "\n",
    "    # 处理横屏图片\n",
    "    elif len(img[0])/len(img) > 1.5:\n",
    "        img_high = cv2.resize(img, [720, 400], interpolation=cv2.INTER_CUBIC)\n",
    "        img_high_restoration = skimage.restoration.denoise_tv_chambolle(img_high, weight=0.0001)\n",
    "        img_bottom = (img_high_restoration[-50:] * 255.0).astype(np.uint8)\n",
    "        img_top = (img_high_restoration[:50] * 255.0).astype(np.uint8)\n",
    "\n",
    "    # 处理方形图片\n",
    "    else:\n",
    "        img_high = cv2.resize(img, [600, 600], interpolation=cv2.INTER_CUBIC)\n",
    "        img_high_restoration = skimage.restoration.denoise_tv_chambolle(img_high, weight=0.0001)\n",
    "        img_bottom = (img_high_restoration[-70:] * 255.0).astype(np.uint8)\n",
    "        img_top = (img_high_restoration[:70] * 255.0).astype(np.uint8)\n",
    "\n",
    "\n",
    "    # 增加曝光试试，让所有的像素都变白\n",
    "    img_top = set_max(img_top * 1.1).astype(np.uint8)\n",
    "    img_bottom = set_max(img_bottom * 1.1).astype(np.uint8)\n",
    "\n",
    "    # 模板匹配\n",
    "    h, w = template.shape[:2]\n",
    "\n",
    "    # 处理top部分\n",
    "    ret = cv2.matchTemplate(img_top, template, cv2.TM_CCOEFF_NORMED)\n",
    "    min_val, max_val, min_loc, max_loc = cv2.minMaxLoc(ret)\n",
    "\n",
    "    # 处理bottom部分\n",
    "    ret_b = cv2.matchTemplate(img_bottom, template, cv2.TM_CCOEFF_NORMED)\n",
    "    min_val_b, max_val_b, min_loc_b, max_loc_b = cv2.minMaxLoc(ret_b)\n",
    "\n",
    "    if max_val > max_val_b:\n",
    "        draw_img = img_top.copy()\n",
    "        ret = cv2.rectangle(draw_img, max_loc, (max_loc[0]+w, max_loc[1]+h), (80, 80, 80), 1)\n",
    "    else:\n",
    "        draw_img = img_bottom.copy()\n",
    "        ret = cv2.rectangle(draw_img, max_loc_b, (max_loc_b[0]+w, max_loc_b[1]+h), (80, 80, 80), 1)\n",
    "\n",
    "    # 取得倒数第二步结果    \n",
    "    if max_val > max_val_b:\n",
    "        img_next = img_top[max_loc[1]:max_loc[1] + h + 3, max_loc[0]:]\n",
    "    else:\n",
    "        img_next = img_bottom[max_loc_b[1]:max_loc_b[1] + h + 3, max_loc_b[0]:]\n",
    "\n",
    "    # 对于右侧长度超过300的部分都砍掉\n",
    "    if len(img_next[0]) > 275:\n",
    "        img_next = img_next[:,:275]\n",
    "\n",
    "    # 垂直投影\n",
    "    split_w = getVProjection(img_next, threshold=int(np.average(img_next[:,:50])*1+np.average(img_next[:,-20:]*0.2)))\n",
    "    img_final = img_next[:,:get_right_bound(split_w)]\n",
    "\n",
    "    # 保存图片\n",
    "    cv2.imwrite(\"D:/dataset_all/bytedance/ocr_data_split/data/test_random_2w/test_set_final_2/\" + file_name_list[k], img_final)\n",
    "\n",
    "#     current += 1\n",
    "#     print(int(np.average(img_next[:,:50])*1+np.average(img_next[:,-20:]*0.2)))\n",
    "\n",
    "#     cv2.imshow(str(current), img)\n",
    "#     cv2.imshow('final', img_final)\n",
    "#     cv2.waitKey(0)\n",
    "#     cv2.destroyAllWindows()"
   ]
  },
  {
   "cell_type": "code",
   "execution_count": 247,
   "id": "2cc31e3d",
   "metadata": {},
   "outputs": [
    {
     "name": "stdout",
     "output_type": "stream",
     "text": [
      "463\n"
     ]
    }
   ],
   "source": [
    "print(int(np.average(img_next[:,:50])*1.8 + np.average(img_next[:,-20:])*0.1))"
   ]
  },
  {
   "cell_type": "code",
   "execution_count": 14,
   "id": "1d1dd166",
   "metadata": {},
   "outputs": [
    {
     "name": "stdout",
     "output_type": "stream",
     "text": [
      "max_loc\n"
     ]
    }
   ],
   "source": [
    "print('max_loc.jpg.jjj'.split('.')[0])"
   ]
  }
 ],
 "metadata": {
  "kernelspec": {
   "display_name": "Python 3 (ipykernel)",
   "language": "python",
   "name": "python3"
  },
  "language_info": {
   "codemirror_mode": {
    "name": "ipython",
    "version": 3
   },
   "file_extension": ".py",
   "mimetype": "text/x-python",
   "name": "python",
   "nbconvert_exporter": "python",
   "pygments_lexer": "ipython3",
   "version": "3.9.13"
  },
  "varInspector": {
   "cols": {
    "lenName": 16,
    "lenType": 16,
    "lenVar": 40
   },
   "kernels_config": {
    "python": {
     "delete_cmd_postfix": "",
     "delete_cmd_prefix": "del ",
     "library": "var_list.py",
     "varRefreshCmd": "print(var_dic_list())"
    },
    "r": {
     "delete_cmd_postfix": ") ",
     "delete_cmd_prefix": "rm(",
     "library": "var_list.r",
     "varRefreshCmd": "cat(var_dic_list()) "
    }
   },
   "types_to_exclude": [
    "module",
    "function",
    "builtin_function_or_method",
    "instance",
    "_Feature"
   ],
   "window_display": false
  }
 },
 "nbformat": 4,
 "nbformat_minor": 5
}
